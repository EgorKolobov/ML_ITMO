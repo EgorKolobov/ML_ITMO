{
  "nbformat": 4,
  "nbformat_minor": 0,
  "metadata": {
    "colab": {
      "name": "Copy of DT_test.ipynb",
      "provenance": [],
      "collapsed_sections": []
    },
    "kernelspec": {
      "name": "python3",
      "display_name": "Python 3"
    }
  },
  "cells": [
    {
      "cell_type": "markdown",
      "metadata": {
        "id": "hGClrhQA9SAk"
      },
      "source": [
        "# Деревья решений"
      ]
    },
    {
      "cell_type": "markdown",
      "metadata": {
        "id": "veekMy8WRjBi"
      },
      "source": [
        "## Построение дерева"
      ]
    },
    {
      "cell_type": "markdown",
      "metadata": {
        "id": "SYkVwAFiUHXj"
      },
      "source": [
        "Опишем жадный алгоритм построения бинарного дерева решений:\n",
        "1. Начинаем со всей обучающей выборки $X$, которую помещаем в корень $R_1$. \n",
        "2. Задаём функционал качества $Q(X, j, t)$ и критерий остановки. \n",
        "3. Запускаем построение из корня: $SplitNode(1, R_1)$\n",
        "\n",
        "Функция $SplitNode(m, R_m)$\n",
        "1. Если выполнен критерий остановки, то выход.\n",
        "2. Находим наилучший с точки зрения $Q$ предикат: $j, t$: $[x_j<t]$\n",
        "3. Помещаем предикат в вкршину и получаем с его помощью разбиение $X$ на две части: $R_{left} = \\lbrace x|x_j<t \\rbrace$ и $R_{right} = \\lbrace x|x_j \\geqslant t \\rbrace$\n",
        "4. Поместим $R_{left}$ и $R_{right}$ соответсвенно в левое и правое поддерево.\n",
        "5. Рекурсивно повторяем $SplitNode(left, R_{left})$ и $SplitNode(right, R_{right})$.\n",
        "\n",
        "В конце поставим в соответствие каждому листу ответ. Для задачи классификации - это самый частый среди объектов класс или вектор с долями классов (можно интерпретировать как вероятности):\n",
        "$$ c_v = \\arg \\max_{k\\in Y} \\sum_{(x_i,y_i) \\in R_v} [y_i=k]  $$"
      ]
    },
    {
      "cell_type": "markdown",
      "metadata": {
        "id": "9P6FsdBog4Ai"
      },
      "source": [
        "## Функционал качества для деревьев решений\n"
      ]
    },
    {
      "cell_type": "markdown",
      "metadata": {
        "id": "9VAKO0aykGBD"
      },
      "source": [
        "Энтропия Шеннона для системы с N возможными состояниями определяется по формуле:\n",
        "$$H = - \\sum_{i=0}^{N} p_i\\log_2p_i $$"
      ]
    },
    {
      "cell_type": "markdown",
      "metadata": {
        "id": "5582B-1Fn2bw"
      },
      "source": [
        "где $p_i$ – вероятности нахождения системы в $i$-ом состоянии. \n",
        "\n",
        "Это очень важное понятие теории информации, которое позволяет оценить количество информации (степень хаоса в системе). Чем выше энтропия, тем менее упорядочена система и наоборот. С помощью энтропии мы формализуем функционал качества для разделение выборки (для задачи классификации)."
      ]
    },
    {
      "cell_type": "code",
      "metadata": {
        "id": "PbcMUd7bvk05"
      },
      "source": [
        "import numpy as np\n",
        "import pandas as pd\n",
        "\n",
        "import matplotlib.pyplot as plt\n",
        "\n",
        "import random\n",
        "from pprint import pprint\n",
        "\n",
        "# from google.colab import drive\n",
        "# drive.mount('/content/drive/')\n",
        "from collections import Counter\n",
        "from sklearn import datasets\n",
        "from sklearn.model_selection import train_test_split\n",
        "from sklearn.metrics import accuracy_score\n",
        "from sklearn.tree import DecisionTreeClassifier"
      ],
      "execution_count": null,
      "outputs": []
    },
    {
      "cell_type": "markdown",
      "metadata": {
        "id": "4AdLxP9CowTm"
      },
      "source": [
        "Код для расчёта энтропии:"
      ]
    },
    {
      "cell_type": "code",
      "metadata": {
        "id": "2mT8Jq8Av2sM"
      },
      "source": [
        "def entropy(y):\n",
        "    \n",
        "    _, counts = np.unique(y, return_counts=True)\n",
        "\n",
        "    probabilities = counts / counts.sum()\n",
        "    entropy = sum(probabilities * -np.log2(probabilities))\n",
        "     \n",
        "    return entropy"
      ],
      "execution_count": null,
      "outputs": []
    },
    {
      "cell_type": "markdown",
      "metadata": {
        "id": "Xk9etb2vo7fK"
      },
      "source": [
        "Здесь $y$ - это массив значений целевой переменной"
      ]
    },
    {
      "cell_type": "markdown",
      "metadata": {
        "id": "07TCw0USzLus"
      },
      "source": [
        "Энтропия – по сути степень хаоса (или неопределенности) в системе. Уменьшение энтропии называют приростом информации (information gain, IG).\n",
        "\n",
        "Обочначим $R_v$ - объекты, которые нужно разделить в помощью предиката в вершине $v$. Запишем формулу для расчёта информационного прироста:\n",
        "$$ Q = IG = H(R_v) - (H(R_{left})+H(R_{right}))$$\n",
        "\n",
        "На каждом шаге нам нужно максимизировать этот функционал качества. Как это делать? Например, так можно перебрать $t$ для выбранного $j$."
      ]
    },
    {
      "cell_type": "markdown",
      "metadata": {
        "id": "trEWHDoXg_p9"
      },
      "source": [
        "Предыдущая версия формулы прироста информации слишком упрощена. В работе необходимо использовать более устойчивую формулу, которая учитывает не только энтропию подмножеств, но и их размер. \n",
        "\n",
        "$$ Q = IG = H(R_v) - \\Big (\\frac{|R_{left}|} {|R_{v}|} H(R_{left})+ \\frac{|R_{right}|} {|R_{v}|} H(R_{right})\\Big)$$\n",
        "\n",
        "где, $|R_{v}|$, $|R_{left}|$ и $|R_{right}|$ - количество элементов в соответствующих множествах."
      ]
    },
    {
      "cell_type": "markdown",
      "metadata": {
        "id": "9xmN6V_N1xBr"
      },
      "source": [
        "\n",
        "### Задание 4.1"
      ]
    },
    {
      "cell_type": "markdown",
      "metadata": {
        "id": "nWFHZScF2CBF"
      },
      "source": [
        "Реализуйте алгоритм построения дерева. Должны быть отдельные функции (методы) для расчёта энтропии (уже есть), для разделения дерева (используйте `pandas`), для подсчёта функционала качества $IG$, для выбора наилучшего разделения (с учетом признакоd и порогов), для проверки критерия остановки.\n",
        "\n",
        "Для набора данных `iris` реализуйте алгоритм и минимум три из разными критерия остановки из перечисленных ниже:\n",
        "* максимальной глубины дерева = 5\n",
        "* минимального числа объектов в листе = 5\n",
        "* максимальное количество листьев в дереве = 5\n",
        "* purity (остановка, если все объекты в листе относятся к одному классу)\n",
        "\n",
        "Реализуйте функцию `predict` (на вход функции подаётся датафрейм с объектами)\n",
        "\n",
        "Оцените точность каждой модели с помощью метрики точность (`from sklearn.metrics import accuracy_score` или реализовать свою)."
      ]
    },
    {
      "cell_type": "code",
      "metadata": {
        "colab": {
          "base_uri": "https://localhost:8080/"
        },
        "id": "wHmSBcq3VQcI",
        "outputId": "295f9b86-169b-4da7-ae5a-db80a4ffc5c0"
      },
      "source": [
        "iris = datasets.load_iris()\n",
        "X_train, X_test, Y_train, Y_test = train_test_split(\n",
        "    iris.data, iris.target, test_size=0.33, random_state=239)\n",
        "\n",
        "\n",
        "class Node:\n",
        "    def __init__(self, chances=None):\n",
        "        self.chances = chances\n",
        "        self.t = -1\n",
        "        self.depth = 1\n",
        "        self.bad = False\n",
        "\n",
        "    def _make_adjacent_node(self, chances):\n",
        "        self.depth += 1\n",
        "        return Node(chances)\n",
        "\n",
        "\n",
        "class Tree:\n",
        "    def __init__(self, max_depth=5, max_leafs=5, min_leaf_obj=5):\n",
        "        self.max_depth = max_depth\n",
        "        self.min_leaf_obj = min_leaf_obj\n",
        "        self.max_leafs = max_leafs\n",
        "\n",
        "    def _chance(self, Y): # Считаем долю каждого типа Y от общего числа\n",
        "        return np.array([len(Y[Y == Y_type]) / len(Y) for Y_type in set(self.Y)])\n",
        "\n",
        "    @staticmethod\n",
        "    def _information_gain(Rv, Rleft, Rright): # Просто вычисляем по формуле\n",
        "        return entropy(Rv) - ((len(Rleft) / len(Rv) * entropy(Rleft)) + (len(Rright) / len(Rv) * entropy(Rright)))\n",
        "\n",
        "    def _split(self, X, Y, node):\n",
        "        # Проверяем условия на кол-во листов, глубину, корректность Y\n",
        "        if node.depth >= self.max_depth or len(X) < self.max_leafs or len(set(Y)) == 1:\n",
        "            node.bad = True\n",
        "            return\n",
        "\n",
        "        best_split_j, best_t, best_ig = -1, -1, -1\n",
        "        best_left_part, best_right_part = map(np.copy, (np.array([]), np.array([])))\n",
        "        x1, x2 = map(np.copy, (np.array([]), np.array([])))\n",
        "\n",
        "        for j, x_col in enumerate(X.T): # Проходимся по столбцам\n",
        "            for t in x_col: # проходимся по элементам столбцов\n",
        "                left_part, right_part = Y[x_col < t], Y[x_col >= t] # делим Y на две части по предикату t\n",
        "                if len(left_part) == 0 or len(right_part) == 0: # если части пустые, то пропускаем их\n",
        "                    continue\n",
        "\n",
        "                ig = self._information_gain(Y, left_part, right_part) # Считаем прирост информации\n",
        "                if ig > best_ig: # Если новое разбиение более информативно, то пересчитываем все переменные\n",
        "                    best_t, best_ig = t, ig # предикат, прирост информации\n",
        "                    best_left_part, best_right_part = left_part, right_part # части\n",
        "                    best_split_j = j # индекс столбца\n",
        "                    x1 = X[x_col >= best_t] # в правую часть строки из X, в которых столбец был >= предиката\n",
        "                    x2 = X[x_col < best_t] # в правую часть строки из X, в которых столбец был < предиката\n",
        "            # Проверяем условие на минимальное число объектов в листе\n",
        "            if len(x1) < self.min_leaf_obj or len(x2) < self.min_leaf_obj:\n",
        "                node.bad = True\n",
        "                return\n",
        "\n",
        "            # Добавляем вершины слева и справа от текущей\n",
        "            node.left = node._make_adjacent_node(self._chance(best_left_part))\n",
        "            node.right = node._make_adjacent_node(self._chance(best_right_part))\n",
        "            node.j, node.t =  best_split_j, best_t\n",
        "            self._split(x1, best_right_part, node.right) # Запустили для правой части\n",
        "            self._split(x2, best_left_part, node.left) # Запустили для левой\n",
        "\n",
        "    def _predict_node(self, X, node):\n",
        "        if node.bad:\n",
        "            return node.chances\n",
        "        elif X[node.j] > node.t:\n",
        "            return self._predict_node(X, node.right)\n",
        "        else:\n",
        "            return self._predict_node(X, node.left)\n",
        "\n",
        "    def fit(self, X, Y):\n",
        "        self.Y = Y\n",
        "        self.tree = Node(self._chance(Y))\n",
        "        self._split(np.asarray(X), Y, self.tree)\n",
        "\n",
        "    def predict(self, X):\n",
        "        return [np.argmax(self._predict_node(x, self.tree)) for x in X]\n",
        "\n",
        "\n",
        "tree = Tree()\n",
        "tree.fit(X_train, Y_train)\n",
        "\n",
        "Y_pred = tree.predict(X_test)\n",
        "accuracy = accuracy_score(Y_test, Y_pred)\n",
        "print(f'Точность метода: {accuracy * 100}%')"
      ],
      "execution_count": null,
      "outputs": [
        {
          "output_type": "stream",
          "name": "stdout",
          "text": [
            "Точность метода: 98.0%\n"
          ]
        }
      ]
    },
    {
      "cell_type": "markdown",
      "metadata": {
        "id": "BkyCjLcy_CTM"
      },
      "source": [
        "##  Случайный лес"
      ]
    },
    {
      "cell_type": "markdown",
      "metadata": {
        "id": "7fKZe1FyRgCa"
      },
      "source": [
        "Опишем алгоритм случайный лес (*random forest*) и попутно разберём основные идеи:\n",
        "\n",
        "1. Зададим $N$ - число деревьев в лесу.\n",
        "2. Для каждого $n$ из $N$ сгенерируем свою выборку $X_n$. Пусть $m$ - это количество объектов в $X$. При генерации каждой $X_n$ мы будем брать объекты $m$ раз с возвращением. То есть один и тот же объект может попасть в выборку несколько раз, а какие-то объекты не попадут. (Этот способ назвается бутстрап).\n",
        "3. По каждой $X_n$ построим решающее дерево $b_n$. Обычно стараются делать глубокие деревья. В качестве критериев остановки можно использовать `max_depth` или `min_samples_leaf` (например, пока в каждом листе не окажется по одному объекту). При каждом разбиении сначала выбирается $k$ (эвристика $k = \\sqrt d$, где $d$ - это число признаков объектов из выборки $X$) случайных признаков из исходных, и оптимальное разделение выборки ищется только среди них. Обратите внимание, что мы не выбрасываем оставшиеся признаки!\n",
        "4. Итоговый алгоритм будет представлять собой результат голосования (для классификации) и среднее арифметическое (для регрессии). Модификация алгоритма предполагает учёт весов каждого отдельного слабого алгоритма в ансамбле, но в этом особо нет смысла.\n"
      ]
    },
    {
      "cell_type": "markdown",
      "metadata": {
        "id": "YJBQ8lc0WyrN"
      },
      "source": [
        "### Задание 4.2"
      ]
    },
    {
      "cell_type": "markdown",
      "metadata": {
        "id": "y594Jn04ZTCm"
      },
      "source": [
        "В качестве набора данных используйте: https://www.kaggle.com/mathchi/churn-for-bank-customers\n",
        "\n",
        "Там есть описание и примеры работы с этими данными. Если кратко, речь идёт про задачу прогнозирования оттока клиентов. Есть данные о 10 тысячах клиентов банка, часть из которых больше не являются клиентами."
      ]
    },
    {
      "cell_type": "markdown",
      "metadata": {
        "id": "be_mLbdVW2oG"
      },
      "source": [
        "Используя либо свою реализацию, либо  `DecisionTreeClassifier` с разными настройками из `sklearn.tree` реализйте алгоритм \"случайный лес\". \n",
        "\n",
        "Найдите наилучшие гиперпараметры этого алгоритма: количество деревьев, критерий остановки, функционал качества, минимальное количество объектов в листьях и другие.\n",
        "\n",
        "Нельзя использовать готовую реализацию случайного леса из `sklearn`.\n",
        "\n",
        "В подобных задачах очень важна интерпретируемость алгоритма. Попытайтесь оценить информативность признаков, т.е. ответить а вопрос, значения каких признаков являются самыми важными индикаторами того, что банк потеряет клиента."
      ]
    },
    {
      "cell_type": "code",
      "metadata": {
        "id": "_5YHk45_Y1xm"
      },
      "source": [
        "class RandomForest:\n",
        "  def __init__(self, number_of_trees=5, max_depth=5, min_samples_leaf=5, random_state=239):\n",
        "    self.number_of_trees = number_of_trees\n",
        "    self.max_depth = max_depth\n",
        "    self.min_samples_leaf = min_samples_leaf\n",
        "    self.random_state = random_state\n",
        "    np.random.seed(random_state) # Позволяет делать одинаковый choice и permutation\n",
        "    self.trees = []\n",
        "\n",
        "  @staticmethod\n",
        "  def _boostrap(X, Y): # Просто делаем случайный выбор заданного кол-ва объектов с возможностью перевыбора\n",
        "    n_rows, n_cols = X.shape\n",
        "    samples = np.random.choice(n_rows, size=n_rows, replace=True) \n",
        "    return X.iloc[samples], Y.iloc[samples]\n",
        "\n",
        "  def fit(self, X, Y):\n",
        "    if len(self.trees) > 0:\n",
        "      self.trees = []\n",
        "    for _ in range(self.number_of_trees):\n",
        "      tree = DecisionTreeClassifier(criterion=\"entropy\", # Критерий для измерения качества разбиения\n",
        "                                    random_state=self.random_state,\n",
        "                                    min_samples_split=self.min_samples_leaf,\n",
        "                                    max_depth=self.max_depth,\n",
        "                                    max_features=\"sqrt\")\n",
        "      sample_x, sample_y = self._boostrap(X, Y)\n",
        "      tree.fit(sample_x, sample_y)\n",
        "      self.trees += [tree]\n",
        "\n",
        "  # def fit_custom(self, X, Y):\n",
        "  #   if len(self.trees) > 0:\n",
        "  #     self.trees = []\n",
        "  #   for _ in range(self.number_of_trees):\n",
        "  #     tree = Tree(min_leaf_obj=self.min_samples_leaf,\n",
        "  #                 max_depth=self.max_depth)\n",
        "  #     sample_x, sample_y = self._boostrap(X, Y)\n",
        "  #     tree.fit(sample_x, sample_y)\n",
        "  #     self.trees += [tree]\n",
        "\n",
        "  def predict(self, X):\n",
        "      Y = np.array([tree.predict(X)  for tree in self.trees])\n",
        "\n",
        "      predictions = np.array([])\n",
        "      for prediction in Y.T:\n",
        "        counter = Counter(prediction)\n",
        "        predictions = np.append(predictions, counter.most_common(1)[0][0])\n",
        "      return predictions\n",
        "  \n",
        "  def attribute_value(self, old_accuracy, X_test, Y_test): # Считает \"важность\" признаков\n",
        "    predictions = [] # list tuple-ов, на первом месте посчитанная важность признака, на втором - его название\n",
        "    for column in X_test:\n",
        "      X_copy = X_test.copy()\n",
        "      X_copy[column] = np.random.permutation(X_copy[column].values) # делаем случайную перестановку\n",
        "      predicted_score = accuracy_score(Y_test, self.predict(X_copy))\n",
        "      predictions.append((abs(predicted_score - old_accuracy) / old_accuracy, column)) # |старая_точность - предсказанная_точность| / старая_точность\n",
        "    predictions = sorted(predictions, key=lambda x: x[0], reverse=True)\n",
        "    return predictions"
      ],
      "execution_count": null,
      "outputs": []
    },
    {
      "cell_type": "code",
      "metadata": {
        "id": "Uw3RAgjW14rl"
      },
      "source": [
        "# Заменяет в DataFrame значения колонки column_name на среднеарифметическое соответсвующего значения из number_column\n",
        "def column_mean_replacer(X, column_name, number_column):\n",
        "  for x_u in X[column_name].unique(): # Проходимся только по уникальным значениям\n",
        "    mean_val = X[X[column_name] == x_u][number_column].mean() # Считаем для уникального(неповторяющегося) значения x_u среднеарифметическое (mean_val) колонки number_column\n",
        "    X[column_name].replace({x_u: mean_val}, inplace=True) # Заменяем уникальное значение x_u в колонке column_name на mean_val"
      ],
      "execution_count": null,
      "outputs": []
    },
    {
      "cell_type": "code",
      "metadata": {
        "colab": {
          "base_uri": "https://localhost:8080/",
          "height": 224
        },
        "id": "BhMexm2z2A0l",
        "outputId": "d2d22aba-5d0b-43ee-c5d4-46ad273de3d3"
      },
      "source": [
        "chur_table = pd.read_csv('/content/drive/MyDrive/churn.csv')\n",
        "chur_table.head()"
      ],
      "execution_count": null,
      "outputs": [
        {
          "output_type": "execute_result",
          "data": {
            "text/html": [
              "<div>\n",
              "<style scoped>\n",
              "    .dataframe tbody tr th:only-of-type {\n",
              "        vertical-align: middle;\n",
              "    }\n",
              "\n",
              "    .dataframe tbody tr th {\n",
              "        vertical-align: top;\n",
              "    }\n",
              "\n",
              "    .dataframe thead th {\n",
              "        text-align: right;\n",
              "    }\n",
              "</style>\n",
              "<table border=\"1\" class=\"dataframe\">\n",
              "  <thead>\n",
              "    <tr style=\"text-align: right;\">\n",
              "      <th></th>\n",
              "      <th>RowNumber</th>\n",
              "      <th>CustomerId</th>\n",
              "      <th>Surname</th>\n",
              "      <th>CreditScore</th>\n",
              "      <th>Geography</th>\n",
              "      <th>Gender</th>\n",
              "      <th>Age</th>\n",
              "      <th>Tenure</th>\n",
              "      <th>Balance</th>\n",
              "      <th>NumOfProducts</th>\n",
              "      <th>HasCrCard</th>\n",
              "      <th>IsActiveMember</th>\n",
              "      <th>EstimatedSalary</th>\n",
              "      <th>Exited</th>\n",
              "    </tr>\n",
              "  </thead>\n",
              "  <tbody>\n",
              "    <tr>\n",
              "      <th>0</th>\n",
              "      <td>1</td>\n",
              "      <td>15634602</td>\n",
              "      <td>Hargrave</td>\n",
              "      <td>619</td>\n",
              "      <td>France</td>\n",
              "      <td>Female</td>\n",
              "      <td>42</td>\n",
              "      <td>2</td>\n",
              "      <td>0.00</td>\n",
              "      <td>1</td>\n",
              "      <td>1</td>\n",
              "      <td>1</td>\n",
              "      <td>101348.88</td>\n",
              "      <td>1</td>\n",
              "    </tr>\n",
              "    <tr>\n",
              "      <th>1</th>\n",
              "      <td>2</td>\n",
              "      <td>15647311</td>\n",
              "      <td>Hill</td>\n",
              "      <td>608</td>\n",
              "      <td>Spain</td>\n",
              "      <td>Female</td>\n",
              "      <td>41</td>\n",
              "      <td>1</td>\n",
              "      <td>83807.86</td>\n",
              "      <td>1</td>\n",
              "      <td>0</td>\n",
              "      <td>1</td>\n",
              "      <td>112542.58</td>\n",
              "      <td>0</td>\n",
              "    </tr>\n",
              "    <tr>\n",
              "      <th>2</th>\n",
              "      <td>3</td>\n",
              "      <td>15619304</td>\n",
              "      <td>Onio</td>\n",
              "      <td>502</td>\n",
              "      <td>France</td>\n",
              "      <td>Female</td>\n",
              "      <td>42</td>\n",
              "      <td>8</td>\n",
              "      <td>159660.80</td>\n",
              "      <td>3</td>\n",
              "      <td>1</td>\n",
              "      <td>0</td>\n",
              "      <td>113931.57</td>\n",
              "      <td>1</td>\n",
              "    </tr>\n",
              "    <tr>\n",
              "      <th>3</th>\n",
              "      <td>4</td>\n",
              "      <td>15701354</td>\n",
              "      <td>Boni</td>\n",
              "      <td>699</td>\n",
              "      <td>France</td>\n",
              "      <td>Female</td>\n",
              "      <td>39</td>\n",
              "      <td>1</td>\n",
              "      <td>0.00</td>\n",
              "      <td>2</td>\n",
              "      <td>0</td>\n",
              "      <td>0</td>\n",
              "      <td>93826.63</td>\n",
              "      <td>0</td>\n",
              "    </tr>\n",
              "    <tr>\n",
              "      <th>4</th>\n",
              "      <td>5</td>\n",
              "      <td>15737888</td>\n",
              "      <td>Mitchell</td>\n",
              "      <td>850</td>\n",
              "      <td>Spain</td>\n",
              "      <td>Female</td>\n",
              "      <td>43</td>\n",
              "      <td>2</td>\n",
              "      <td>125510.82</td>\n",
              "      <td>1</td>\n",
              "      <td>1</td>\n",
              "      <td>1</td>\n",
              "      <td>79084.10</td>\n",
              "      <td>0</td>\n",
              "    </tr>\n",
              "  </tbody>\n",
              "</table>\n",
              "</div>"
            ],
            "text/plain": [
              "   RowNumber  CustomerId   Surname  ...  IsActiveMember EstimatedSalary Exited\n",
              "0          1    15634602  Hargrave  ...               1       101348.88      1\n",
              "1          2    15647311      Hill  ...               1       112542.58      0\n",
              "2          3    15619304      Onio  ...               0       113931.57      1\n",
              "3          4    15701354      Boni  ...               0        93826.63      0\n",
              "4          5    15737888  Mitchell  ...               1        79084.10      0\n",
              "\n",
              "[5 rows x 14 columns]"
            ]
          },
          "metadata": {},
          "execution_count": 56
        }
      ]
    },
    {
      "cell_type": "code",
      "metadata": {
        "id": "DY7qHAkSbmp_"
      },
      "source": [
        "chur_table = chur_table.drop([\"Surname\", \"CustomerId\"], axis=1)\n",
        "column_mean_replacer(chur_table, 'Geography','Exited')\n",
        "chur_table = chur_table.replace({'Gender': {'Female': 1, 'Male' : 0}})\n",
        "\n",
        "X = chur_table.iloc[:, 1:-1]\n",
        "Y = chur_table[\"Exited\"]"
      ],
      "execution_count": null,
      "outputs": []
    },
    {
      "cell_type": "code",
      "metadata": {
        "colab": {
          "base_uri": "https://localhost:8080/",
          "height": 359
        },
        "id": "jUavL34LI6fP",
        "outputId": "6cc870b9-0df0-43c3-ad3a-c51144c877b0"
      },
      "source": [
        "X_train, X_test, Y_train, Y_test = train_test_split(X, Y, random_state=239, test_size=0.2)\n",
        "\n",
        "forest = RandomForest(number_of_trees=5, max_depth=6)\n",
        "forest.fit(X_train, Y_train)\n",
        "Y_pred = forest.predict(X_test)\n",
        "accuracy = accuracy_score(Y_test, Y_pred)\n",
        "\n",
        "forest_attributes = forest.attribute_value(accuracy, X_test, Y_test)\n",
        "\n",
        "pd.DataFrame(forest_attributes)"
      ],
      "execution_count": null,
      "outputs": [
        {
          "output_type": "execute_result",
          "data": {
            "text/html": [
              "<div>\n",
              "<style scoped>\n",
              "    .dataframe tbody tr th:only-of-type {\n",
              "        vertical-align: middle;\n",
              "    }\n",
              "\n",
              "    .dataframe tbody tr th {\n",
              "        vertical-align: top;\n",
              "    }\n",
              "\n",
              "    .dataframe thead th {\n",
              "        text-align: right;\n",
              "    }\n",
              "</style>\n",
              "<table border=\"1\" class=\"dataframe\">\n",
              "  <thead>\n",
              "    <tr style=\"text-align: right;\">\n",
              "      <th></th>\n",
              "      <th>0</th>\n",
              "      <th>1</th>\n",
              "    </tr>\n",
              "  </thead>\n",
              "  <tbody>\n",
              "    <tr>\n",
              "      <th>0</th>\n",
              "      <td>0.082444</td>\n",
              "      <td>Age</td>\n",
              "    </tr>\n",
              "    <tr>\n",
              "      <th>1</th>\n",
              "      <td>0.034994</td>\n",
              "      <td>NumOfProducts</td>\n",
              "    </tr>\n",
              "    <tr>\n",
              "      <th>2</th>\n",
              "      <td>0.030842</td>\n",
              "      <td>IsActiveMember</td>\n",
              "    </tr>\n",
              "    <tr>\n",
              "      <th>3</th>\n",
              "      <td>0.019573</td>\n",
              "      <td>Geography</td>\n",
              "    </tr>\n",
              "    <tr>\n",
              "      <th>4</th>\n",
              "      <td>0.011862</td>\n",
              "      <td>Balance</td>\n",
              "    </tr>\n",
              "    <tr>\n",
              "      <th>5</th>\n",
              "      <td>0.002966</td>\n",
              "      <td>Gender</td>\n",
              "    </tr>\n",
              "    <tr>\n",
              "      <th>6</th>\n",
              "      <td>0.002372</td>\n",
              "      <td>HasCrCard</td>\n",
              "    </tr>\n",
              "    <tr>\n",
              "      <th>7</th>\n",
              "      <td>0.002372</td>\n",
              "      <td>EstimatedSalary</td>\n",
              "    </tr>\n",
              "    <tr>\n",
              "      <th>8</th>\n",
              "      <td>0.001186</td>\n",
              "      <td>Tenure</td>\n",
              "    </tr>\n",
              "    <tr>\n",
              "      <th>9</th>\n",
              "      <td>0.000593</td>\n",
              "      <td>CreditScore</td>\n",
              "    </tr>\n",
              "  </tbody>\n",
              "</table>\n",
              "</div>"
            ],
            "text/plain": [
              "          0                1\n",
              "0  0.082444              Age\n",
              "1  0.034994    NumOfProducts\n",
              "2  0.030842   IsActiveMember\n",
              "3  0.019573        Geography\n",
              "4  0.011862          Balance\n",
              "5  0.002966           Gender\n",
              "6  0.002372        HasCrCard\n",
              "7  0.002372  EstimatedSalary\n",
              "8  0.001186           Tenure\n",
              "9  0.000593      CreditScore"
            ]
          },
          "metadata": {},
          "execution_count": 58
        }
      ]
    },
    {
      "cell_type": "markdown",
      "metadata": {
        "id": "JNoWrIZGz5Aw"
      },
      "source": [
        "Из полученного датафрейма можно сделать вывод, что наиболее значимым фактором является возраст (Age) клиента."
      ]
    },
    {
      "cell_type": "code",
      "metadata": {
        "colab": {
          "base_uri": "https://localhost:8080/"
        },
        "id": "ebWbVmGfb9tk",
        "outputId": "c0c35cdb-6b91-453c-92ac-096ba6e64926"
      },
      "source": [
        "best_accuracy, number_of_trees, max_depth, min_samples_leaf = -1, -1, -1, -1\n",
        "\n",
        "for number_of_trees in [5, 10, 15, 20, 25, 30, 35, 40, 45, 50, 55]:\n",
        "  for max_depth in [3, 6, 9, 12, 15, 18, 21]:\n",
        "    for min_samples_leaf in [1.0, 3, 5, 7, 9, 11, 13, 15, 17, 19, 21]:\n",
        "      forest = RandomForest(number_of_trees, max_depth, min_samples_leaf)\n",
        "      forest.fit(X_train, Y_train)\n",
        "      Y_pred = forest.predict(X_test)\n",
        "      accuracy = accuracy_score(Y_test, Y_pred)\n",
        "      if accuracy > best_accuracy:\n",
        "        best_accuracy = accuracy\n",
        "        best_number_of_trees = number_of_trees\n",
        "        best_max_depth = max_depth\n",
        "        best_min_samples_leaf = min_samples_leaf\n",
        "\n",
        "\n",
        "print(f'Лучшая точность: {best_accuracy*100}%')\n",
        "print(f'Лучшее колличествово деревьев: {number_of_trees}')\n",
        "print(f'Лучшая максимальная глубина деревьев: {max_depth}')\n",
        "print(f'Лучшая кол-во объектов в листе: {min_samples_leaf}')"
      ],
      "execution_count": null,
      "outputs": [
        {
          "output_type": "stream",
          "name": "stdout",
          "text": [
            "Лучшая точность: 86.65%\n",
            "Лучшее колличествово деревьев: 55\n",
            "Лучшая максимальная глубина деревьев: 21\n",
            "Лучшая кол-во объектов в листе: 21\n"
          ]
        }
      ]
    }
  ]
}
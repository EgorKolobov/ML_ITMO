{
  "nbformat": 4,
  "nbformat_minor": 0,
  "metadata": {
    "colab": {
      "name": "Copy of test 7.1 pytorch tasks.ipynb",
      "provenance": [],
      "collapsed_sections": []
    },
    "kernelspec": {
      "display_name": "Python 3",
      "language": "python",
      "name": "python3"
    },
    "language_info": {
      "codemirror_mode": {
        "name": "ipython",
        "version": 3
      },
      "file_extension": ".py",
      "mimetype": "text/x-python",
      "name": "python",
      "nbconvert_exporter": "python",
      "pygments_lexer": "ipython3",
      "version": "3.6.5"
    },
    "accelerator": "GPU"
  },
  "cells": [
    {
      "cell_type": "markdown",
      "metadata": {
        "id": "vcnGdgw_YJ8u"
      },
      "source": [
        "# PyTorch. Основы: синтаксис, torch.cuda и torch.autograd\n",
        "\n",
        "## Задание 7.1"
      ]
    },
    {
      "cell_type": "code",
      "metadata": {
        "id": "RtyozNmmYJ89"
      },
      "source": [
        "import torch\n",
        "import matplotlib.pyplot as plt"
      ],
      "execution_count": null,
      "outputs": []
    },
    {
      "cell_type": "markdown",
      "metadata": {
        "id": "ny4-Qi2wYJ-6"
      },
      "source": [
        "### Задача 1"
      ]
    },
    {
      "cell_type": "markdown",
      "metadata": {
        "id": "IWxlFq0bYJ-_"
      },
      "source": [
        "1). Создайте два вещественных тензора: `a` размером (3, 4) и `b` размером (12,)   \n",
        "2). Создайте тензор `c`, являющийся тензором `b`, но размера (2, 2, 3)  \n",
        "3). Выведите первый столбец матрицы `a` с помощью индексации"
      ]
    },
    {
      "cell_type": "code",
      "metadata": {
        "id": "3oxZuk3yYJ_A",
        "colab": {
          "base_uri": "https://localhost:8080/"
        },
        "outputId": "f2aa0157-2854-456b-9839-ae4e6804b809"
      },
      "source": [
        "torch.random.manual_seed(239)\n",
        "\n",
        "a = torch.rand(3, 4)\n",
        "b = torch.rand(12)\n",
        "c = b.reshape(2, 2, 3)\n",
        "\n",
        "print(f'a = {a}\\n')\n",
        "print(f'b = {b}\\n')\n",
        "print(f'c = {c}\\n')\n",
        "\n",
        "print(f'Первый столбец а = {a[:, 0]}')"
      ],
      "execution_count": null,
      "outputs": [
        {
          "output_type": "stream",
          "name": "stdout",
          "text": [
            "a = tensor([[0.3168, 0.9147, 0.2298, 0.5921],\n",
            "        [0.8135, 0.4361, 0.2037, 0.8230],\n",
            "        [0.6035, 0.6287, 0.1959, 0.8569]])\n",
            "\n",
            "b = tensor([0.3975, 0.4105, 0.7435, 0.7007, 0.6471, 0.8885, 0.9868, 0.8606, 0.1485,\n",
            "        0.0407, 0.0322, 0.8397])\n",
            "\n",
            "c = tensor([[[0.3975, 0.4105, 0.7435],\n",
            "         [0.7007, 0.6471, 0.8885]],\n",
            "\n",
            "        [[0.9868, 0.8606, 0.1485],\n",
            "         [0.0407, 0.0322, 0.8397]]])\n",
            "\n",
            "Первый столбец а = tensor([0.3168, 0.8135, 0.6035])\n"
          ]
        }
      ]
    },
    {
      "cell_type": "markdown",
      "metadata": {
        "id": "D2IP_FrKYKAA"
      },
      "source": [
        "\n",
        "### Задача 2"
      ]
    },
    {
      "cell_type": "markdown",
      "metadata": {
        "id": "tBZFbSYQYKAA"
      },
      "source": [
        "1). Создайте два вещественных тензора: `a` размером (5, 2) и `b` размером (1,10)   \n",
        "2). Создайте тензор `c`, являющийся тензором `b`, но размера (5, 2)  \n",
        "3). Произведите все арифметические операции с тензорами `a` и `c`"
      ]
    },
    {
      "cell_type": "code",
      "metadata": {
        "id": "hzs2bH3GYKAB",
        "colab": {
          "base_uri": "https://localhost:8080/"
        },
        "outputId": "f96ce62e-5ad7-4d3f-aa4d-d86b5d5d9535"
      },
      "source": [
        "a = torch.rand(5, 2)\n",
        "b = torch.rand(1, 10)\n",
        "c = b.reshape(5, 2)\n",
        "\n",
        "print(f'a = {a}\\n')\n",
        "print(f'b = {b}\\n')\n",
        "print(f'c = {c}\\n')\n",
        "\n",
        "print(f'a + c = {a.add(c)}\\n')\n",
        "print(f'a - c = {a.sub(c)}\\n')\n",
        "print(f'a * c = {a.mul(c)}\\n')\n",
        "print(f'a / c = {a.div(c)}')"
      ],
      "execution_count": null,
      "outputs": [
        {
          "output_type": "stream",
          "name": "stdout",
          "text": [
            "a = tensor([[0.4961, 0.9243],\n",
            "        [0.4150, 0.3645],\n",
            "        [0.7712, 0.3276],\n",
            "        [0.2518, 0.7073],\n",
            "        [0.1843, 0.2961]])\n",
            "\n",
            "b = tensor([[0.9421, 0.9069, 0.2196, 0.5248, 0.8270, 0.2979, 0.9194, 0.6226, 0.5090,\n",
            "         0.6028]])\n",
            "\n",
            "c = tensor([[0.9421, 0.9069],\n",
            "        [0.2196, 0.5248],\n",
            "        [0.8270, 0.2979],\n",
            "        [0.9194, 0.6226],\n",
            "        [0.5090, 0.6028]])\n",
            "\n",
            "a + c = tensor([[1.4382, 1.8312],\n",
            "        [0.6346, 0.8893],\n",
            "        [1.5982, 0.6254],\n",
            "        [1.1712, 1.3300],\n",
            "        [0.6933, 0.8989]])\n",
            "\n",
            "a - c = tensor([[-0.4460,  0.0174],\n",
            "        [ 0.1954, -0.1604],\n",
            "        [-0.0558,  0.0297],\n",
            "        [-0.6676,  0.0847],\n",
            "        [-0.3247, -0.3067]])\n",
            "\n",
            "a * c = tensor([[0.4674, 0.8383],\n",
            "        [0.0911, 0.1913],\n",
            "        [0.6378, 0.0976],\n",
            "        [0.2315, 0.4404],\n",
            "        [0.0938, 0.1785]])\n",
            "\n",
            "a / c = tensor([[0.5266, 1.0192],\n",
            "        [1.8899, 0.6945],\n",
            "        [0.9325, 1.0997],\n",
            "        [0.2739, 1.1360],\n",
            "        [0.3620, 0.4912]])\n"
          ]
        }
      ]
    },
    {
      "cell_type": "markdown",
      "metadata": {
        "id": "rIaroFO6YKBT"
      },
      "source": [
        "### Задача 3"
      ]
    },
    {
      "cell_type": "markdown",
      "metadata": {
        "id": "GfLHVvKvYKBT"
      },
      "source": [
        "1). Создайте тензор *целых чисел* `images` размерности (100, 200, 200, 3) (можно интерпретировать это как 100 картинок размера 200х200 с тремя цветовыми каналами, то есть 100 цветных изображений 200х200). Заполните его нулями  \n",
        "\n",
        "2). Сделайте так, чтобы у $i$-ой по порядку картинки была нарисована белая полоса толщиной два пикселя в строках, которые соответствуют номеру картинки. Например, у 3-ей по порядку картинки белая полоска будет занимать 6 и 7 строки, у 99 - 198 и 199. Сделать белую строку можно, записав в ячейки тензора число 255 (по всем трём каналам). Выведите несколько примеров с помощью `pylot`  \n",
        "\n",
        "3). Посчитайте среднее тензора `images` по 1-ой оси (по сути - средняя картинка), умножьте полученный тензор на 70. Нарисуйте с помощью `pyplot`, должна получиться серая картинка (при взятии среднего нужно привести тензор к float с помощью `.float()`, при отрисовке обратно к int с помощью `.int()`)"
      ]
    },
    {
      "cell_type": "code",
      "metadata": {
        "id": "pZVGHEQQYKBU",
        "colab": {
          "base_uri": "https://localhost:8080/",
          "height": 286
        },
        "outputId": "e1448313-6615-447d-fa9b-85e39c152800"
      },
      "source": [
        "images = torch.IntTensor(100, 200, 200, 3).zero_() #1\n",
        "\n",
        "for i, image in enumerate(images): #2\n",
        "  image[2*i:2*i+2] = 255\n",
        "plt.imshow(images[25])"
      ],
      "execution_count": null,
      "outputs": [
        {
          "output_type": "execute_result",
          "data": {
            "text/plain": [
              "<matplotlib.image.AxesImage at 0x7f3fcb607810>"
            ]
          },
          "metadata": {},
          "execution_count": 27
        },
        {
          "output_type": "display_data",
          "data": {
            "image/png": "[encoded data removed]",
            "text/plain": [
              "<Figure size 432x288 with 1 Axes>"
            ]
          },
          "metadata": {
            "needs_background": "light"
          }
        }
      ]
    },
    {
      "cell_type": "code",
      "source": [
        "plt.imshow((images.float().mean(0) * 70).int())"
      ],
      "metadata": {
        "colab": {
          "base_uri": "https://localhost:8080/",
          "height": 286
        },
        "id": "tDcRTfJGA7TU",
        "outputId": "bc0507ef-c95a-47ef-e189-4ecfae96237e"
      },
      "execution_count": null,
      "outputs": [
        {
          "output_type": "execute_result",
          "data": {
            "text/plain": [
              "<matplotlib.image.AxesImage at 0x7f3fcb5a6250>"
            ]
          },
          "metadata": {},
          "execution_count": 28
        },
        {
          "output_type": "display_data",
          "data": {
            "image/png": "[encoded data removed]",
            "text/plain": [
              "<Figure size 432x288 with 1 Axes>"
            ]
          },
          "metadata": {
            "needs_background": "light"
          }
        }
      ]
    },
    {
      "cell_type": "markdown",
      "metadata": {
        "id": "oQnhq5ZdYKCu"
      },
      "source": [
        "### Задача 4"
      ]
    },
    {
      "cell_type": "markdown",
      "metadata": {
        "id": "UB95BhgTYKCu"
      },
      "source": [
        "- В Colab нажмите в меню сверху: `Runtime` -> `Change Runtime Type` -> `GPU`, где изначально стоит `None` (`Среда выполнение` - `Сменить среду выполнения`)\n",
        "- Объявите тензор `a` размера (2, 3, 4) и тензор `b` размера (1, 8, 3) на GPU, иницилизируйте их случайно равномерно (`.uniform_()`)\n",
        "- Затем измените форму тензора `b`, чтобы она совпадала с формой тензора `a`, получите тензор `c`  \n",
        "- Переместите `c` на CPU, переместите `a` на CPU  \n",
        "- Оберните их в `Variable()`\n",
        "- Объявите тензор `L = torch.mean((c - a) `**` 2)` и посчитайте градиент `L` по `c` ( то есть $\\frac{\\partial{L}}{\\partial{c}})$\n",
        "- Выведите градиент `L` по `c`"
      ]
    },
    {
      "cell_type": "code",
      "metadata": {
        "id": "WESOm5TCYKCv",
        "colab": {
          "base_uri": "https://localhost:8080/"
        },
        "outputId": "aecfa4bc-89a7-4974-9d57-9bf7d843f4e2"
      },
      "source": [
        "a = torch.rand(2, 3, 4).uniform_().cuda()\n",
        "b = torch.rand(1, 8, 3).uniform_().cuda()\n",
        "c = b.reshape(a.shape)\n",
        "\n",
        "print(f'a = {a}\\n')\n",
        "print(f'b = {b}\\n')\n",
        "print(f'c = {c}\\n')"
      ],
      "execution_count": null,
      "outputs": [
        {
          "output_type": "stream",
          "name": "stdout",
          "text": [
            "a = tensor([[[0.3504, 0.1253, 0.9696, 0.2491],\n",
            "         [0.4524, 0.8998, 0.8304, 0.0746],\n",
            "         [0.8391, 0.9148, 0.6507, 0.6999]],\n",
            "\n",
            "        [[0.0186, 0.2873, 0.0046, 0.7165],\n",
            "         [0.0754, 0.3231, 0.6588, 0.4172],\n",
            "         [0.7417, 0.3088, 0.2444, 0.4578]]], device='cuda:0')\n",
            "\n",
            "b = tensor([[[0.9828, 0.9581, 0.0886],\n",
            "         [0.8352, 0.8360, 0.7559],\n",
            "         [0.0589, 0.2146, 0.4446],\n",
            "         [0.3750, 0.7986, 0.9962],\n",
            "         [0.5403, 0.7391, 0.8746],\n",
            "         [0.7613, 0.9441, 0.1973],\n",
            "         [0.7561, 0.1878, 0.5652],\n",
            "         [0.7191, 0.4129, 0.2020]]], device='cuda:0')\n",
            "\n",
            "c = tensor([[[0.9828, 0.9581, 0.0886, 0.8352],\n",
            "         [0.8360, 0.7559, 0.0589, 0.2146],\n",
            "         [0.4446, 0.3750, 0.7986, 0.9962]],\n",
            "\n",
            "        [[0.5403, 0.7391, 0.8746, 0.7613],\n",
            "         [0.9441, 0.1973, 0.7561, 0.1878],\n",
            "         [0.5652, 0.7191, 0.4129, 0.2020]]], device='cuda:0')\n",
            "\n"
          ]
        }
      ]
    },
    {
      "cell_type": "code",
      "source": [
        "c = c.cpu()\n",
        "a = a.cpu()\n",
        "print(f'a = {a}\\n')\n",
        "print(f'c = {c}')"
      ],
      "metadata": {
        "colab": {
          "base_uri": "https://localhost:8080/"
        },
        "id": "N1UyRCHvBkVv",
        "outputId": "1e2dce1a-26a2-48f8-f495-67a6ad7645c5"
      },
      "execution_count": null,
      "outputs": [
        {
          "output_type": "stream",
          "name": "stdout",
          "text": [
            "a = tensor([[[0.8158, 0.7039, 0.4007, 0.0102],\n",
            "         [0.2411, 0.1456, 0.6814, 0.1051],\n",
            "         [0.9437, 0.4628, 0.4492, 0.6189]],\n",
            "\n",
            "        [[0.4216, 0.1793, 0.7646, 0.7297],\n",
            "         [0.1370, 0.6698, 0.8598, 0.3569],\n",
            "         [0.2802, 0.5271, 0.8408, 0.9091]]])\n",
            "\n",
            "c = tensor([[[0.5404, 0.9386, 0.5500, 0.3648],\n",
            "         [0.2694, 0.5126, 0.6669, 0.3732],\n",
            "         [0.6417, 0.5211, 0.6164, 0.7833]],\n",
            "\n",
            "        [[0.5557, 0.1521, 0.2418, 0.2122],\n",
            "         [0.9820, 0.6899, 0.1958, 0.3914],\n",
            "         [0.2201, 0.7542, 0.6680, 0.9338]]])\n"
          ]
        }
      ]
    },
    {
      "cell_type": "code",
      "source": [
        "from torch.autograd import Variable\n",
        "\n",
        "a = Variable(a)\n",
        "c = Variable(c, requires_grad=True)\n",
        "\n",
        "L = torch.mean((c - a)**2)\n",
        "\n",
        "print(f'a = {a}\\n')\n",
        "print(f'c = {c}\\n')\n",
        "print(f'L = {L}\\n')\n",
        "\n",
        "L.backward()\n",
        "print(f'градиент L по c = {c.grad}\\n')"
      ],
      "metadata": {
        "colab": {
          "base_uri": "https://localhost:8080/"
        },
        "id": "uAYoA2l8CWPX",
        "outputId": "014d34a5-5a02-4e88-d075-1af8c9fa6662"
      },
      "execution_count": null,
      "outputs": [
        {
          "output_type": "stream",
          "name": "stdout",
          "text": [
            "a = tensor([[[0.3504, 0.1253, 0.9696, 0.2491],\n",
            "         [0.4524, 0.8998, 0.8304, 0.0746],\n",
            "         [0.8391, 0.9148, 0.6507, 0.6999]],\n",
            "\n",
            "        [[0.0186, 0.2873, 0.0046, 0.7165],\n",
            "         [0.0754, 0.3231, 0.6588, 0.4172],\n",
            "         [0.7417, 0.3088, 0.2444, 0.4578]]], device='cuda:0')\n",
            "\n",
            "c = tensor([[[0.9828, 0.9581, 0.0886, 0.8352],\n",
            "         [0.8360, 0.7559, 0.0589, 0.2146],\n",
            "         [0.4446, 0.3750, 0.7986, 0.9962]],\n",
            "\n",
            "        [[0.5403, 0.7391, 0.8746, 0.7613],\n",
            "         [0.9441, 0.1973, 0.7561, 0.1878],\n",
            "         [0.5652, 0.7191, 0.4129, 0.2020]]], device='cuda:0',\n",
            "       requires_grad=True)\n",
            "\n",
            "L = 0.24640071392059326\n",
            "\n",
            "градиент L по c = tensor([[[ 0.0527,  0.0694, -0.0734,  0.0488],\n",
            "         [ 0.0320, -0.0120, -0.0643,  0.0117],\n",
            "         [-0.0329, -0.0450,  0.0123,  0.0247]],\n",
            "\n",
            "        [[ 0.0435,  0.0376,  0.0725,  0.0037],\n",
            "         [ 0.0724, -0.0105,  0.0081, -0.0191],\n",
            "         [-0.0147,  0.0342,  0.0140, -0.0213]]], device='cuda:0')\n",
            "\n"
          ]
        }
      ]
    }
  ]
}
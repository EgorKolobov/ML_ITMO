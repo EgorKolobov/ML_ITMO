{
 "cells": [
  {
   "cell_type": "markdown",
   "metadata": {
    "id": "BsNwjQDRfmLY"
   },
   "source": [
    "# Задание 1"
   ]
  },
  {
   "cell_type": "markdown",
   "metadata": {
    "id": "wu6r1-s7fmLe"
   },
   "source": [
    "---"
   ]
  },
  {
   "cell_type": "markdown",
   "metadata": {
    "id": "zxRIdPO9gYyX"
   },
   "source": [
    "Напишите программу, которая будет решать систему линейных уравнений вида:\n",
    "\n",
    "\\begin{matrix} a_{11}x+a_{12}y=b_{1}&(1) \\\\ a_{21}x+a_{22}y=b_{2} &(2) \\end{matrix}\n",
    "​\t\n",
    "На вход программа должна принимать 2 строки.\n",
    "\n",
    "Каждая строка содержит 3 действительных числа через пробел: коэффициенты a и b.\n",
    "\n",
    "На выходе программа должна выдавать значения x и y в одну строку через пробел.\n",
    " \n",
    "\n",
    "Примечание 1. Для разделения строки на отдельные элементы используйте функцию split()\n",
    "\n",
    "Примечание 2. В качестве разделителя между целой и дробной частью используйте точку, например 0.2"
   ]
  },
  {
   "cell_type": "code",
   "execution_count": 51,
   "metadata": {
    "id": "6sxlcLbVlrjl"
   },
   "outputs": [
    {
     "name": "stdout",
     "output_type": "stream",
     "text": [
      "1 2 3\n",
      "4 5 9\n",
      "1.000 1.000\n"
     ]
    }
   ],
   "source": [
    "from numpy import array, linalg\n",
    "import numpy as np\n",
    "\n",
    "def linan():\n",
    "    input1 = [float(x) for x in input().split()]\n",
    "    input2 = [float(x) for x in input().split()]\n",
    "    \n",
    "    inv_A = linalg.inv(array([input1[:2:], input2[:2:]]))\n",
    "    B = array([input1[-1], input2[-1]])\n",
    "   \n",
    "    X = inv_A.dot(B)\n",
    "    print('{:.3f}'.format(X[0]), '{:.3f}'.format(X[1]))\n",
    "\n",
    "if __name__ == '__main__':    \n",
    "    linan()"
   ]
  },
  {
   "cell_type": "markdown",
   "metadata": {
    "id": "wLoVDMQnfmOv"
   },
   "source": [
    "# Задание 2"
   ]
  },
  {
   "cell_type": "markdown",
   "metadata": {
    "id": "6bmt_YF3fmOw"
   },
   "source": [
    "Напишите функцию `decorate_matrix`, которая получает на вход одно целое число больше единицы. Функция должна возвращать матрицу n на n, у которой на границах стоят единицы, а на всех остальных позициях(если остались позиции не на границах) стоят нули.\n",
    "\n",
    "Нужно сделать без использования  циклов.\n",
    "\n",
    "```\n",
    "# ожидаемый резальтат для аргумента 5\n",
    "array([[1., 1., 1., 1., 1.],\n",
    "[1., 0., 0., 0., 1.],\n",
    "[1., 0., 0., 0., 1.],\n",
    "[1., 0., 0., 0., 1.],\n",
    "[1., 1., 1., 1., 1.]])\n",
    "```\n",
    "\n"
   ]
  },
  {
   "cell_type": "code",
   "execution_count": 53,
   "metadata": {},
   "outputs": [
    {
     "name": "stdout",
     "output_type": "stream",
     "text": [
      "10\n",
      "[[1 1 1 1 1 1 1 1 1 1]\n",
      " [1 0 0 0 0 0 0 0 0 1]\n",
      " [1 0 0 0 0 0 0 0 0 1]\n",
      " [1 0 0 0 0 0 0 0 0 1]\n",
      " [1 0 0 0 0 0 0 0 0 1]\n",
      " [1 0 0 0 0 0 0 0 0 1]\n",
      " [1 0 0 0 0 0 0 0 0 1]\n",
      " [1 0 0 0 0 0 0 0 0 1]\n",
      " [1 0 0 0 0 0 0 0 0 1]\n",
      " [1 1 1 1 1 1 1 1 1 1]]\n"
     ]
    }
   ],
   "source": [
    "def decorate_matrix(n):\n",
    "    A = np.zeros((n,n), dtype=int)\n",
    "    A[0,:] = np.ones(n)\n",
    "    A[n-1,:] = np.ones(n)\n",
    "    A[:,0] = np.ones(n)\n",
    "    A[:,n-1] = np.ones(n)\n",
    "    print(A)\n",
    "\n",
    "if __name__ == '__main__':    \n",
    "    n=int(input())\n",
    "    decorate_matrix(n)"
   ]
  },
  {
   "cell_type": "markdown",
   "metadata": {
    "id": "75sxny1zSCbl"
   },
   "source": [
    "# Задание 3"
   ]
  },
  {
   "cell_type": "markdown",
   "metadata": {
    "id": "2Xq1tBBAS5UJ"
   },
   "source": [
    "1) реализуйте 2 функции:\n",
    "\n",
    "$f(x) = (x+a)^2 - b$ \n",
    "\n",
    "$g(x) = |f(x)|$\n",
    "\n",
    "2) Найдите аргументы, при которых достигается минимум функций $f(x)$ и $g(x)$\n",
    "\n",
    "Пример. \n",
    "Входные значение: $a=3$ и $b=4$\n",
    "\n",
    "Выходные значения:\n",
    "\n",
    "`-3.0 -1.0`"
   ]
  },
  {
   "cell_type": "code",
   "execution_count": 54,
   "metadata": {},
   "outputs": [
    {
     "name": "stdout",
     "output_type": "stream",
     "text": [
      "3 4\n",
      "-3.0 -1.0\n"
     ]
    }
   ],
   "source": [
    "'''\n",
    "f(x) = (x + a)**2 - b = x**2 + 2*a*x + (a**2 - b)\n",
    "f'(x) = 2*x + 2*a = 2(x + a)\n",
    "Экстремум (минимум) у f будет в одной точке: x = -a \n",
    "\n",
    "Минимумы g - корни f\n",
    "if b > 0:\n",
    "    x1 = 0.5*(-2*a+(4*b)**0.5)\n",
    "    x2 = 0.5*(-2*a-(4*b)**0.5)\n",
    "\n",
    "или один минимум в той же точке, что и у f (f полностью над Ox)\n",
    "'''\n",
    "def find_f_and_g_minimum(a, b):\n",
    "    if b > 0:\n",
    "        return -a, [0.5 * (-2 * a + (4 * b)**0.5), 0.5 * (-2 * a - (4 * b)**0.5)]\n",
    "    else:\n",
    "        \n",
    "        return -a, [-a]\n",
    "    \n",
    "# def find_function_minimum(func, x_min=-100, x_max=100):\n",
    "#     Y = array(map(func, np.linspace(x_min,x_max)))\n",
    "#     print(np.gradient(Y))\n",
    "    \n",
    "    \n",
    "if __name__ == '__main__':          \n",
    "    a, b = map(float, input().split())\n",
    "    f = lambda x: (x + a)**2 - b\n",
    "\n",
    "    g = lambda x: abs((x + a)**2 - b)\n",
    "    fx, gx = find_f_and_g_minimum(a, b)\n",
    "    print(fx, gx[0])\n",
    "    "
   ]
  },
  {
   "cell_type": "markdown",
   "metadata": {
    "id": "efml9GzISC9Q"
   },
   "source": [
    "# Задание 4"
   ]
  },
  {
   "cell_type": "markdown",
   "metadata": {
    "id": "SDZvKcsTVbAW"
   },
   "source": [
    "Постройте графики для функций из предыдущего задания и отметьте другим цветом на графиках точки найденных минимумов."
   ]
  },
  {
   "cell_type": "code",
   "execution_count": 55,
   "metadata": {
    "scrolled": true
   },
   "outputs": [
    {
     "name": "stdout",
     "output_type": "stream",
     "text": [
      "3 4\n"
     ]
    },
    {
     "data": {
      "image/png": "[encoded data removed]",
      "text/plain": [
       "<Figure size 432x288 with 1 Axes>"
      ]
     },
     "metadata": {
      "needs_background": "light"
     },
     "output_type": "display_data"
    },
    {
     "data": {
      "image/png": "[encoded data removed]",
      "text/plain": [
       "<Figure size 432x288 with 1 Axes>"
      ]
     },
     "metadata": {
      "needs_background": "light"
     },
     "output_type": "display_data"
    }
   ],
   "source": [
    "import matplotlib.pyplot as plt\n",
    "\n",
    "def plot_function(func, x_min=-10, x_max=10):\n",
    "    X = np.linspace(x_min, x_max)\n",
    "    Y = list(map(func, X))\n",
    "    \n",
    "    plt.figure()\n",
    "    plt.grid()\n",
    "    plt.plot(X, Y)\n",
    "    plt.ylabel(\"Y axis\")\n",
    "    plt.xlabel(\"X axis\")\n",
    "    \n",
    "def plot_f_and_g_minimum(f, g, a, b, x_min=-10, x_max=10):\n",
    "    fx, gx = find_f_and_g_minimum(a, b)\n",
    "    fy, gy = f(fx), g(gx[0])\n",
    "        \n",
    "    fX = np.linspace(x_min, x_max)\n",
    "    fY = list(map(f, fX))\n",
    "    \n",
    "    plt.figure()\n",
    "    plt.grid()\n",
    "    plt.plot(fX, fY)\n",
    "    plt.plot(fx, fy, marker=\"o\",markersize=5, markeredgecolor=\"red\", markerfacecolor=\"green\")\n",
    "    plt.ylabel(\"Y axis\")\n",
    "    plt.xlabel(\"X axis\")\n",
    "    \n",
    "    gX = np.linspace(x_min, x_max)\n",
    "    gY = list(map(g, gX))\n",
    "    \n",
    "    plt.figure()\n",
    "    plt.grid()\n",
    "    plt.plot(gX, gY)\n",
    "    for xi in gx:\n",
    "        plt.plot(xi, gy, marker=\"o\",markersize=5, markeredgecolor=\"red\", markerfacecolor=\"green\")\n",
    "    plt.ylabel(\"Y axis\")\n",
    "    plt.xlabel(\"X axis\")\n",
    "\n",
    "if __name__ == '__main__':\n",
    "    a, b = map(float, input().split())\n",
    "    f = lambda x: (x + a)**2 - b\n",
    "    g = lambda x: abs((x + a)**2 - b)\n",
    "    plot_f_and_g_minimum(f, g, a, b)"
   ]
  },
  {
   "cell_type": "code",
   "execution_count": null,
   "metadata": {},
   "outputs": [],
   "source": []
  },
  {
   "cell_type": "markdown",
   "metadata": {
    "id": "mrby3EfiSDKJ"
   },
   "source": [
    "# Задание 5"
   ]
  },
  {
   "cell_type": "markdown",
   "metadata": {
    "id": "J6AZ8785VkQd"
   },
   "source": [
    "1000 человек бросают монетку. Каждый бросил 10 раз подряд.\n",
    "\n",
    " 1. Какова вероятность того, что хотя бы у одного человека монетка выпала 10 раз подряд той же самой стороной (орлом или решкой)? \n",
    " 2. Какова вероятность того, что хотя бы у одного человека монетка выпала 8 раз подряд той же самой стороной (орлом или решкой)? \n",
    " 3. Какова вероятность того, что ровно у троих человек из 1000 монетка выпала 10 раз подряд той же самой стороной (орлом или решкой)?"
   ]
  },
  {
   "cell_type": "code",
   "execution_count": 59,
   "metadata": {},
   "outputs": [
    {
     "name": "stdout",
     "output_type": "stream",
     "text": [
      "math task 5.1) 0.858440454732242\n",
      "math task 5.2) 0.9971957200884372\n",
      "math task 5.3) 0.15475507825613022\n",
      "task 5.1) 0.582\n",
      "task 5.2) 0.997\n",
      "task 5.3) 0.177\n"
     ]
    }
   ],
   "source": [
    "from random import choice\n",
    "\n",
    "'''\n",
    "0.5**10 - вероятность выпадения 10 решек/орлов подряд у одного человека\n",
    "0.5**10 + 0.5**10 = 0.5**9 - вероятность выпадения 10 орлов или 10 решек у одного человека\n",
    "1 - 0.5**9 - вероятность НЕ выпадения 10 орлов или 10 решек у одного человека\n",
    "(1 - 0.5**9)**1000 - НЕ выпало 10 орлов или 10 решек хотя бы у одного человека из 1000\n",
    "Ответ: 1 - (1 - 0.5**9)**1000\n",
    "'''\n",
    "def task5_1():\n",
    "    coin = (True, False) # head tail\n",
    "    person = 0\n",
    "    for _ in range(1000):\n",
    "        head = 0\n",
    "        tail = 0\n",
    "        for i in range(10):\n",
    "            if choice(coin):\n",
    "                head += 1\n",
    "            else:\n",
    "                tail += 1\n",
    "        if head ==10 or tail == 10:\n",
    "            person += 1\n",
    "    return person\n",
    "\n",
    "def test_task5_1(times=1000):\n",
    "    sum=0.0\n",
    "    for _ in range(times):\n",
    "        if task5_1()>1:\n",
    "            sum+=1\n",
    "    return sum/times\n",
    "\n",
    "'''\n",
    "Всего есть 6 способов выпасть 1 монете 8 раз подряд\n",
    "0.5 * 6 = 3/512 - вероятность выпадения орла/решки 8 раз подряд у одного человека\n",
    "1 - 3/512 = 509/512 - вероятность НЕ выпадения орла/решки 8 раз подряд у одного человека\n",
    "(509/512)**1000 - НЕ выпало 8 орлов или 8 решек хотя бы у одного человека из 1000\n",
    "Ответ: 1 - (509/512)**1000\n",
    "'''\n",
    "def task5_2():\n",
    "    coin = (True, False) # head tail\n",
    "    person = 0\n",
    "    for _ in range(1000):\n",
    "        head = 0\n",
    "        tail = 0\n",
    "        for i in range(8):\n",
    "            if choice(coin):\n",
    "                head += 1\n",
    "            else:\n",
    "                tail += 1\n",
    "        if head ==8 or tail ==8:\n",
    "            person += 1\n",
    "    return person\n",
    "\n",
    "def test_task5_2(times=1000):\n",
    "    sum=0.0\n",
    "    for _ in range(times):\n",
    "        if task5_2()>1:\n",
    "            sum+=1\n",
    "    return sum/times\n",
    "'''\n",
    "Кол-во способов выбрать 3 человека из 1000 = 166167000\n",
    "0.5**10 - вероятность выпадения 10 решек/орлов подряд у одного человека\n",
    "0.5**10 * 0.5**10 * 0.5**10 * 166167000 = 0.5**30 * 166167000\n",
    "Ответ: 0.5**30 * 166167000\n",
    "'''\n",
    "def test_task5_3(times=1000):\n",
    "    sum=0.0\n",
    "    for _ in range(times):\n",
    "        if task5_1()==3:\n",
    "            sum+=1\n",
    "    return sum/times\n",
    "        \n",
    "            \n",
    "if __name__ == '__main__':\n",
    "    print('math task 5.1)', 1 - (1 - 0.5**9)**1000)\n",
    "    print('math task 5.2)', 1 - (509/512)**1000)\n",
    "    print('math task 5.3)', 0.5**30 * 166167000)\n",
    "    \n",
    "    print('task 5.1) {:.3f}'.format(test_task5_1()))\n",
    "    print('task 5.2) {:.3f}'.format(test_task5_2()))\n",
    "    print('task 5.3) {:.3f}'.format(test_task5_3()))\n"
   ]
  }
 ],
 "metadata": {
  "colab": {
   "collapsed_sections": [
    "MFKSC2UUA7Ne",
    "Mth2u7nzAiqw",
    "JrEY8hzdfmM2",
    "mrm41pzufmNy",
    "2kJObRBHfmOd",
    "ylh_09YIfmOg",
    "QeBH-jT4fmOy"
   ],
   "name": "lab1.ipynb",
   "provenance": []
  },
  "kernelspec": {
   "display_name": "Python 3",
   "language": "python",
   "name": "python3"
  },
  "language_info": {
   "codemirror_mode": {
    "name": "ipython",
    "version": 3
   },
   "file_extension": ".py",
   "mimetype": "text/x-python",
   "name": "python",
   "nbconvert_exporter": "python",
   "pygments_lexer": "ipython3",
   "version": "3.9.2"
  }
 },
 "nbformat": 4,
 "nbformat_minor": 1
}

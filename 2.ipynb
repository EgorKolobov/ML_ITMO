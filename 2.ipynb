{
  "nbformat": 4,
  "nbformat_minor": 0,
  "metadata": {
    "colab": {
      "name": "lab2.ipynb",
      "provenance": [],
      "collapsed_sections": [],
      "toc_visible": true
    },
    "hide_input": false,
    "kernelspec": {
      "display_name": "Python 3",
      "language": "python",
      "name": "python3"
    },
    "language_info": {
      "codemirror_mode": {
        "name": "ipython",
        "version": 3
      },
      "file_extension": ".py",
      "mimetype": "text/x-python",
      "name": "python",
      "nbconvert_exporter": "python",
      "pygments_lexer": "ipython3",
      "version": "3.9.2"
    },
    "toc": {
      "base_numbering": 1,
      "nav_menu": {},
      "number_sections": true,
      "sideBar": true,
      "skip_h1_title": false,
      "title_cell": "Table of Contents",
      "title_sidebar": "Contents",
      "toc_cell": true,
      "toc_position": {},
      "toc_section_display": true,
      "toc_window_display": false
    },
    "varInspector": {
      "cols": {
        "lenName": 16,
        "lenType": 16,
        "lenVar": 40
      },
      "kernels_config": {
        "python": {
          "delete_cmd_postfix": "",
          "delete_cmd_prefix": "del ",
          "library": "var_list.py",
          "varRefreshCmd": "print(var_dic_list())"
        },
        "r": {
          "delete_cmd_postfix": ") ",
          "delete_cmd_prefix": "rm(",
          "library": "var_list.r",
          "varRefreshCmd": "cat(var_dic_list()) "
        }
      },
      "types_to_exclude": [
        "module",
        "function",
        "builtin_function_or_method",
        "instance",
        "_Feature"
      ],
      "window_display": false
    }
  },
  "cells": [
    {
      "cell_type": "markdown",
      "metadata": {
        "id": "xjvL0IIG8Jd0"
      },
      "source": [
        "## Задание 0\n"
      ]
    },
    {
      "cell_type": "markdown",
      "metadata": {
        "id": "yaSxXHvxO0qo"
      },
      "source": [
        "Для всех  заданий будем использовать обезличенные транзакционные банковские данные. Для этого считайте в переменные **tr_mcc_codes, tr_types, transactions и gender_train** из одноимённых таблиц из папки [data](https://drive.google.com/drive/folders/1YAMe7MiTxA-RSSd8Ex2p-L0Dspe6Gs4L). \n",
        "\n",
        "Для таблицы transactions используйте только первые n=1000000 строк. При чтении файлов обратите внимание на разделители внутри каждого из файлов - они могут различаться!"
      ]
    },
    {
      "cell_type": "markdown",
      "metadata": {
        "id": "oP3lX9xC8Jd8"
      },
      "source": [
        "###  Описание данных\n",
        "#### Таблица ```transactions.csv```\n",
        "##### Описание\n",
        "Таблица содержит историю транзакций клиентов банка за один год и три месяца.\n",
        "\n",
        "##### Формат данных\n",
        "\n",
        "```\n",
        "customer_id,tr_datetime,mcc_code,tr_type,amount,term_id\n",
        "111111,15 01:40:52,1111,1000,-5224,111111\n",
        "111112,15 15:18:32,3333,2000,-100,11122233\n",
        "...\n",
        "```\n",
        "##### Описание полей\n",
        "\n",
        " - ```customer_id``` — идентификатор клиента;\n",
        " - ```tr_datetime``` — день и время совершения транзакции (дни нумеруются с начала данных);\n",
        " - ```mcc_code``` — mcc-код транзакции;\n",
        " - ```tr_type``` — тип транзакции;\n",
        " - ```amount``` — сумма транзакции в условных единицах со знаком; ```+``` — начисление средств клиенту (приходная транзакция), ```-``` — списание средств (расходная транзакция);\n",
        " - ```term_id``` — идентификатор терминала;\n",
        "\n",
        "\n",
        "#### Таблица ```gender_train.csv```\n",
        "\n",
        "##### Описание\n",
        "Данная таблица содержит информацию по полу для части клиентов, для которых он известен. Для остальных клиентов пол неизвестен.\n",
        "\n",
        "##### Формат данных\n",
        "```\n",
        "customer_id,gender\n",
        "111111,0\n",
        "111112,1\n",
        "...\n",
        "```\n",
        "\n",
        "##### Описание полей\n",
        " - ```customer_id``` — идентификатор клиента;\n",
        " - ```gender``` — пол клиента;\n",
        "\n",
        "### Таблица ```tr_mcc_codes.csv```\n",
        "\n",
        "##### Описание\n",
        "Данная таблица содержит описание mcc-кодов транзакций.\n",
        "\n",
        "##### Формат данных\n",
        "```\n",
        "mcc_code;mcc_description\n",
        "1000;словесное описание mcc-кода 1000\n",
        "2000;словесное описание mcc-кода 2000\n",
        "...\n",
        "```\n",
        "\n",
        "##### Описание полей\n",
        " - ```mcc_code``` – mcc-код транзакции;\n",
        " - ```mcc_description``` — описание mcc-кода транзакции.\n",
        "\n",
        "#### Таблица ```tr_types.csv```\n",
        "\n",
        "##### Описание\n",
        "Данная таблица содержит описание типов транзакций.\n",
        "\n",
        "##### Формат данных\n",
        "```\n",
        "tr_type;tr_description\n",
        "1000;словесное описание типа транзакции 1000\n",
        "2000;словесное описание типа транзакции 2000\n",
        "...\n",
        "```\n",
        "\n",
        "##### Описание полей\n",
        " - ```tr_type``` – тип транзакции;\n",
        " - ```tr_description``` — описание типа транзакции;"
      ]
    },
    {
      "cell_type": "code",
      "metadata": {
        "colab": {
          "base_uri": "https://localhost:8080/"
        },
        "id": "BH0sCYQI_knF",
        "outputId": "7df3b5c6-943f-4e42-cd75-21e2a5d2e2c4"
      },
      "source": [
        "import pandas as pd\n",
        "import numpy as np\n",
        "from google.colab import drive\n",
        "drive.mount('/content/drive')"
      ],
      "execution_count": null,
      "outputs": [
        {
          "name": "stdout",
          "output_type": "stream",
          "text": [
            "Mounted at /content/drive\n"
          ]
        }
      ]
    },
    {
      "cell_type": "code",
      "metadata": {
        "colab": {
          "base_uri": "https://localhost:8080/",
          "height": 419
        },
        "id": "TuBiqZ4rmZ0D",
        "outputId": "3cb68a12-83db-4a35-9080-59ca8ac6b8b0"
      },
      "source": [
        "transactions = pd.read_csv(\"/content/drive/MyDrive/Data/transactions.csv\", sep=',', nrows=1000000)\n",
        "gender_train = pd.read_csv(\"/content/drive/MyDrive/Data/gender_train.csv\", sep=',')\n",
        "tr_mcc_codes = pd.read_csv(filepath_or_buffer = \"/content/drive/MyDrive/Data/tr_mcc_codes.csv\", sep = ';')\n",
        "tr_types = pd.read_csv(\"/content/drive/MyDrive/Data/tr_types.csv\", sep=';')\n",
        "transactions\n",
        "# gender_train\n",
        "# tr_mcc_codes\n",
        "# tr_types"
      ],
      "execution_count": null,
      "outputs": [
        {
          "data": {
            "text/html": [
              "<div>\n",
              "<style scoped>\n",
              "    .dataframe tbody tr th:only-of-type {\n",
              "        vertical-align: middle;\n",
              "    }\n",
              "\n",
              "    .dataframe tbody tr th {\n",
              "        vertical-align: top;\n",
              "    }\n",
              "\n",
              "    .dataframe thead th {\n",
              "        text-align: right;\n",
              "    }\n",
              "</style>\n",
              "<table border=\"1\" class=\"dataframe\">\n",
              "  <thead>\n",
              "    <tr style=\"text-align: right;\">\n",
              "      <th></th>\n",
              "      <th>customer_id</th>\n",
              "      <th>tr_datetime</th>\n",
              "      <th>mcc_code</th>\n",
              "      <th>tr_type</th>\n",
              "      <th>amount</th>\n",
              "      <th>term_id</th>\n",
              "    </tr>\n",
              "  </thead>\n",
              "  <tbody>\n",
              "    <tr>\n",
              "      <th>0</th>\n",
              "      <td>39026145</td>\n",
              "      <td>0 10:23:26</td>\n",
              "      <td>4814</td>\n",
              "      <td>1030</td>\n",
              "      <td>-2245.92</td>\n",
              "      <td>NaN</td>\n",
              "    </tr>\n",
              "    <tr>\n",
              "      <th>1</th>\n",
              "      <td>39026145</td>\n",
              "      <td>1 10:19:29</td>\n",
              "      <td>6011</td>\n",
              "      <td>7010</td>\n",
              "      <td>56147.89</td>\n",
              "      <td>NaN</td>\n",
              "    </tr>\n",
              "    <tr>\n",
              "      <th>2</th>\n",
              "      <td>39026145</td>\n",
              "      <td>1 10:20:56</td>\n",
              "      <td>4829</td>\n",
              "      <td>2330</td>\n",
              "      <td>-56147.89</td>\n",
              "      <td>NaN</td>\n",
              "    </tr>\n",
              "    <tr>\n",
              "      <th>3</th>\n",
              "      <td>39026145</td>\n",
              "      <td>1 10:39:54</td>\n",
              "      <td>5499</td>\n",
              "      <td>1010</td>\n",
              "      <td>-1392.47</td>\n",
              "      <td>NaN</td>\n",
              "    </tr>\n",
              "    <tr>\n",
              "      <th>4</th>\n",
              "      <td>39026145</td>\n",
              "      <td>2 15:33:42</td>\n",
              "      <td>5499</td>\n",
              "      <td>1010</td>\n",
              "      <td>-920.83</td>\n",
              "      <td>NaN</td>\n",
              "    </tr>\n",
              "    <tr>\n",
              "      <th>...</th>\n",
              "      <td>...</td>\n",
              "      <td>...</td>\n",
              "      <td>...</td>\n",
              "      <td>...</td>\n",
              "      <td>...</td>\n",
              "      <td>...</td>\n",
              "    </tr>\n",
              "    <tr>\n",
              "      <th>999995</th>\n",
              "      <td>98801178</td>\n",
              "      <td>269 10:29:06</td>\n",
              "      <td>5921</td>\n",
              "      <td>1010</td>\n",
              "      <td>-23016.59</td>\n",
              "      <td>127873</td>\n",
              "    </tr>\n",
              "    <tr>\n",
              "      <th>999996</th>\n",
              "      <td>98801178</td>\n",
              "      <td>270 10:26:45</td>\n",
              "      <td>5211</td>\n",
              "      <td>1010</td>\n",
              "      <td>-61380.88</td>\n",
              "      <td>10114209</td>\n",
              "    </tr>\n",
              "    <tr>\n",
              "      <th>999997</th>\n",
              "      <td>98801178</td>\n",
              "      <td>270 15:18:53</td>\n",
              "      <td>5921</td>\n",
              "      <td>1010</td>\n",
              "      <td>-11800.27</td>\n",
              "      <td>10105341</td>\n",
              "    </tr>\n",
              "    <tr>\n",
              "      <th>999998</th>\n",
              "      <td>98801178</td>\n",
              "      <td>271 12:47:13</td>\n",
              "      <td>5211</td>\n",
              "      <td>1010</td>\n",
              "      <td>-16170.59</td>\n",
              "      <td>10114209</td>\n",
              "    </tr>\n",
              "    <tr>\n",
              "      <th>999999</th>\n",
              "      <td>98801178</td>\n",
              "      <td>271 14:51:56</td>\n",
              "      <td>5921</td>\n",
              "      <td>1010</td>\n",
              "      <td>-10025.77</td>\n",
              "      <td>123991</td>\n",
              "    </tr>\n",
              "  </tbody>\n",
              "</table>\n",
              "<p>1000000 rows × 6 columns</p>\n",
              "</div>"
            ],
            "text/plain": [
              "        customer_id   tr_datetime  mcc_code  tr_type    amount   term_id\n",
              "0          39026145    0 10:23:26      4814     1030  -2245.92       NaN\n",
              "1          39026145    1 10:19:29      6011     7010  56147.89       NaN\n",
              "2          39026145    1 10:20:56      4829     2330 -56147.89       NaN\n",
              "3          39026145    1 10:39:54      5499     1010  -1392.47       NaN\n",
              "4          39026145    2 15:33:42      5499     1010   -920.83       NaN\n",
              "...             ...           ...       ...      ...       ...       ...\n",
              "999995     98801178  269 10:29:06      5921     1010 -23016.59    127873\n",
              "999996     98801178  270 10:26:45      5211     1010 -61380.88  10114209\n",
              "999997     98801178  270 15:18:53      5921     1010 -11800.27  10105341\n",
              "999998     98801178  271 12:47:13      5211     1010 -16170.59  10114209\n",
              "999999     98801178  271 14:51:56      5921     1010 -10025.77    123991\n",
              "\n",
              "[1000000 rows x 6 columns]"
            ]
          },
          "execution_count": 4,
          "metadata": {},
          "output_type": "execute_result"
        }
      ]
    },
    {
      "cell_type": "markdown",
      "metadata": {
        "id": "04CYsBKz8JeB"
      },
      "source": [
        "## Задание 1\n",
        "\n"
      ]
    },
    {
      "cell_type": "markdown",
      "metadata": {
        "id": "1hcrfwsYN_Yz"
      },
      "source": [
        "1. Для столбца tr_type датафрейма transactions выберите произвольные 1000 строк с помощью метода sample\n",
        "2. В полученной на предыдущем этапе подвыборке найдите долю транзакций (стобец tr_description в датасете tr_types), в которой содержится подстрока 'POS' или 'ATM'\n",
        "\n",
        "Без использования merge!"
      ]
    },
    {
      "cell_type": "code",
      "metadata": {
        "colab": {
          "base_uri": "https://localhost:8080/"
        },
        "id": "cWQzCgso_tTQ",
        "outputId": "cd19094c-1269-434b-8be9-2c26742e7f69"
      },
      "source": [
        "transactions1000=transactions.tr_type.sample(1000, random_state=239)\n",
        "'''\n",
        "идём в tr_types;\n",
        "смотрим на все столбцы tr_description;\n",
        "если в столбце есть POS/ATM, то возвращаем tr_type\n",
        "'''\n",
        "POS_types=tr_types[tr_types.tr_description.str.contains('POS')].tr_type\n",
        "ATM_types=tr_types[tr_types.tr_description.str.contains('АТМ')].tr_type # русскими буквами\n",
        "answer1=transactions1000.apply(lambda t: (t in POS_types.values) or (t in ATM_types.values)).sum()/1000.0\n",
        "print('Ответ:', answer1)"
      ],
      "execution_count": null,
      "outputs": [
        {
          "output_type": "stream",
          "name": "stdout",
          "text": [
            "Ответ: 0.613\n"
          ]
        }
      ]
    },
    {
      "cell_type": "markdown",
      "metadata": {
        "id": "fiZBDIZt8JeS"
      },
      "source": [
        "## Задание 2 \n"
      ]
    },
    {
      "cell_type": "markdown",
      "metadata": {
        "id": "FFKeBUThOCrz"
      },
      "source": [
        "1. Для столбца tr_type датафрейма transactions посчитайте частоту встречаемости всех типов транзакций tr_type в transactions.\n",
        "2. Выведите топ-10 транзакций по частоте встречаемости (вывести для них tr_description тоже)."
      ]
    },
    {
      "cell_type": "code",
      "metadata": {
        "colab": {
          "base_uri": "https://localhost:8080/",
          "height": 359
        },
        "id": "4uEFKMi9IWoF",
        "outputId": "11404ed4-2da1-4aa8-c090-b9f65d1eaab3"
      },
      "source": [
        "top10_types=transactions.tr_type.value_counts().sort_values(ascending=False).head(10)\n",
        "# выводим все tr_types, у которых tr_type равно top10_type\n",
        "answer2=tr_types[tr_types.tr_type.isin(top10_types.index)]\n",
        "answer2"
      ],
      "execution_count": null,
      "outputs": [
        {
          "output_type": "execute_result",
          "data": {
            "text/html": [
              "<div>\n",
              "<style scoped>\n",
              "    .dataframe tbody tr th:only-of-type {\n",
              "        vertical-align: middle;\n",
              "    }\n",
              "\n",
              "    .dataframe tbody tr th {\n",
              "        vertical-align: top;\n",
              "    }\n",
              "\n",
              "    .dataframe thead th {\n",
              "        text-align: right;\n",
              "    }\n",
              "</style>\n",
              "<table border=\"1\" class=\"dataframe\">\n",
              "  <thead>\n",
              "    <tr style=\"text-align: right;\">\n",
              "      <th></th>\n",
              "      <th>tr_type</th>\n",
              "      <th>tr_description</th>\n",
              "    </tr>\n",
              "  </thead>\n",
              "  <tbody>\n",
              "    <tr>\n",
              "      <th>39</th>\n",
              "      <td>7010</td>\n",
              "      <td>Взнос наличных через АТМ (в своем тер.банке)</td>\n",
              "    </tr>\n",
              "    <tr>\n",
              "      <th>47</th>\n",
              "      <td>7030</td>\n",
              "      <td>Перевод на карту (с карты) через АТМ (в предел...</td>\n",
              "    </tr>\n",
              "    <tr>\n",
              "      <th>59</th>\n",
              "      <td>7070</td>\n",
              "      <td>Перевод на карту (с карты) через Мобильный бан...</td>\n",
              "    </tr>\n",
              "    <tr>\n",
              "      <th>60</th>\n",
              "      <td>7071</td>\n",
              "      <td>Перевод на карту (с карты) через Мобильный бан...</td>\n",
              "    </tr>\n",
              "    <tr>\n",
              "      <th>98</th>\n",
              "      <td>1010</td>\n",
              "      <td>Покупка. POS ТУ СБ РФ</td>\n",
              "    </tr>\n",
              "    <tr>\n",
              "      <th>99</th>\n",
              "      <td>1030</td>\n",
              "      <td>Оплата услуги. Банкоматы СБ РФ</td>\n",
              "    </tr>\n",
              "    <tr>\n",
              "      <th>100</th>\n",
              "      <td>1100</td>\n",
              "      <td>Покупка. ТУ  Россия</td>\n",
              "    </tr>\n",
              "    <tr>\n",
              "      <th>101</th>\n",
              "      <td>1110</td>\n",
              "      <td>Покупка. POS ТУ Россия</td>\n",
              "    </tr>\n",
              "    <tr>\n",
              "      <th>106</th>\n",
              "      <td>2010</td>\n",
              "      <td>Выдача наличных в АТМ Сбербанк России</td>\n",
              "    </tr>\n",
              "    <tr>\n",
              "      <th>129</th>\n",
              "      <td>2370</td>\n",
              "      <td>Списание с карты на карту по операции &lt;перевод...</td>\n",
              "    </tr>\n",
              "  </tbody>\n",
              "</table>\n",
              "</div>"
            ],
            "text/plain": [
              "     tr_type                                     tr_description\n",
              "39      7010       Взнос наличных через АТМ (в своем тер.банке)\n",
              "47      7030  Перевод на карту (с карты) через АТМ (в предел...\n",
              "59      7070  Перевод на карту (с карты) через Мобильный бан...\n",
              "60      7071  Перевод на карту (с карты) через Мобильный бан...\n",
              "98      1010                              Покупка. POS ТУ СБ РФ\n",
              "99      1030                     Оплата услуги. Банкоматы СБ РФ\n",
              "100     1100                                Покупка. ТУ  Россия\n",
              "101     1110                             Покупка. POS ТУ Россия\n",
              "106     2010              Выдача наличных в АТМ Сбербанк России\n",
              "129     2370  Списание с карты на карту по операции <перевод..."
            ]
          },
          "metadata": {},
          "execution_count": 79
        }
      ]
    },
    {
      "cell_type": "markdown",
      "metadata": {
        "id": "mktm_JeA8JeX"
      },
      "source": [
        "## Задание 3\n",
        "1. В датафрейме transactions найдите клиента с максимальной суммой приходов на карту\n",
        "2. В датафрейме transactions найдите клиента с максимальной суммой расходов по карте\n",
        "3. Найдите модуль разницы для этих клиентов между суммой расходов и суммой приходов"
      ]
    },
    {
      "cell_type": "code",
      "metadata": {
        "colab": {
          "base_uri": "https://localhost:8080/",
          "height": 111
        },
        "id": "nbVg1qtGTJNy",
        "outputId": "07bb79ab-d71c-4f33-8702-3d95fec7a421"
      },
      "source": [
        "positive_transactions=transactions[transactions.amount>0] # Учитываем только пополнения\n",
        "positive_customers=positive_transactions.groupby('customer_id').sum() # суммируем пополнения\n",
        "max_amount=positive_customers.amount.max() # Находим максимальное сумарное пополнение\n",
        "customer3_1=positive_customers[positive_customers.amount==max_amount] # Находим нужного клиента\n",
        "customer3_1_id=positive_customers.amount.idxmax() # и его индекс customer_id\n",
        "customer3_1"
      ],
      "execution_count": null,
      "outputs": [
        {
          "output_type": "execute_result",
          "data": {
            "text/html": [
              "<div>\n",
              "<style scoped>\n",
              "    .dataframe tbody tr th:only-of-type {\n",
              "        vertical-align: middle;\n",
              "    }\n",
              "\n",
              "    .dataframe tbody tr th {\n",
              "        vertical-align: top;\n",
              "    }\n",
              "\n",
              "    .dataframe thead th {\n",
              "        text-align: right;\n",
              "    }\n",
              "</style>\n",
              "<table border=\"1\" class=\"dataframe\">\n",
              "  <thead>\n",
              "    <tr style=\"text-align: right;\">\n",
              "      <th></th>\n",
              "      <th>mcc_code</th>\n",
              "      <th>tr_type</th>\n",
              "      <th>amount</th>\n",
              "      <th>gender</th>\n",
              "    </tr>\n",
              "    <tr>\n",
              "      <th>customer_id</th>\n",
              "      <th></th>\n",
              "      <th></th>\n",
              "      <th></th>\n",
              "      <th></th>\n",
              "    </tr>\n",
              "  </thead>\n",
              "  <tbody>\n",
              "    <tr>\n",
              "      <th>70780820</th>\n",
              "      <td>530700254</td>\n",
              "      <td>623691441</td>\n",
              "      <td>1.248115e+09</td>\n",
              "      <td>88304.0</td>\n",
              "    </tr>\n",
              "  </tbody>\n",
              "</table>\n",
              "</div>"
            ],
            "text/plain": [
              "              mcc_code    tr_type        amount   gender\n",
              "customer_id                                             \n",
              "70780820     530700254  623691441  1.248115e+09  88304.0"
            ]
          },
          "metadata": {},
          "execution_count": 157
        }
      ]
    },
    {
      "cell_type": "code",
      "metadata": {
        "colab": {
          "base_uri": "https://localhost:8080/",
          "height": 111
        },
        "id": "i4LioNaLYwWf",
        "outputId": "e2ed8453-6643-4b6a-cac5-2d2055f619e0"
      },
      "source": [
        "negative_transactions=transactions[transactions.amount<0]\n",
        "negative_customers=negative_transactions.groupby('customer_id').sum()\n",
        "min_amount=negative_customers.amount.min()\n",
        "customer3_2=negative_customers[negative_customers.amount==min_amount]\n",
        "customer3_2_id=negative_customers.amount.idxmin()\n",
        "customer3_2\n"
      ],
      "execution_count": null,
      "outputs": [
        {
          "output_type": "execute_result",
          "data": {
            "text/html": [
              "<div>\n",
              "<style scoped>\n",
              "    .dataframe tbody tr th:only-of-type {\n",
              "        vertical-align: middle;\n",
              "    }\n",
              "\n",
              "    .dataframe tbody tr th {\n",
              "        vertical-align: top;\n",
              "    }\n",
              "\n",
              "    .dataframe thead th {\n",
              "        text-align: right;\n",
              "    }\n",
              "</style>\n",
              "<table border=\"1\" class=\"dataframe\">\n",
              "  <thead>\n",
              "    <tr style=\"text-align: right;\">\n",
              "      <th></th>\n",
              "      <th>mcc_code</th>\n",
              "      <th>tr_type</th>\n",
              "      <th>amount</th>\n",
              "      <th>gender</th>\n",
              "    </tr>\n",
              "    <tr>\n",
              "      <th>customer_id</th>\n",
              "      <th></th>\n",
              "      <th></th>\n",
              "      <th></th>\n",
              "      <th></th>\n",
              "    </tr>\n",
              "  </thead>\n",
              "  <tbody>\n",
              "    <tr>\n",
              "      <th>70780820</th>\n",
              "      <td>2686385</td>\n",
              "      <td>1093690</td>\n",
              "      <td>-1.249952e+09</td>\n",
              "      <td>477.0</td>\n",
              "    </tr>\n",
              "  </tbody>\n",
              "</table>\n",
              "</div>"
            ],
            "text/plain": [
              "             mcc_code  tr_type        amount  gender\n",
              "customer_id                                         \n",
              "70780820      2686385  1093690 -1.249952e+09   477.0"
            ]
          },
          "metadata": {},
          "execution_count": 84
        }
      ]
    },
    {
      "cell_type": "code",
      "metadata": {
        "colab": {
          "base_uri": "https://localhost:8080/"
        },
        "id": "LdneKzUkb7Ej",
        "outputId": "5cd09dc6-7e83-45aa-f73f-645f9198039f"
      },
      "source": [
        "customer3_1_diff=abs(max_amount+negative_customers.loc[customer3_1_id][2])\n",
        "customer3_2_diff=abs(min_amount+positive_customers.loc[customer3_2_id][2])\n",
        "print('Модуль разницы для первого клиента:', customer3_1_diff)\n",
        "print('Модуль разницы для второго клиента:', customer3_2_diff)"
      ],
      "execution_count": null,
      "outputs": [
        {
          "output_type": "stream",
          "name": "stdout",
          "text": [
            "Модуль разницы для первого клиента: 1837317.9799933434\n",
            "Модуль разницы для второго клиента: 1837317.9799933434\n"
          ]
        }
      ]
    },
    {
      "cell_type": "markdown",
      "metadata": {
        "id": "3tWDuL_4-5o4"
      },
      "source": [
        "## **Задание:**\n",
        "\n",
        "Выведите идентификатор клиента в задании 3.\n",
        "\n",
        "Найдите его пол.\n",
        "\n",
        "Найдите день, в который у клиента было максимальное поступление на счёт.\n",
        "\n",
        "Найдите идентификатор клиента противоположного пола, у которого в этот же день были максимальные траты по тому же mcc_code. "
      ]
    },
    {
      "cell_type": "code",
      "metadata": {
        "colab": {
          "base_uri": "https://localhost:8080/"
        },
        "id": "I4aye7dQ-uXX",
        "outputId": "cf52b06b-efc2-460a-f6fc-51474332ef37"
      },
      "source": [
        "print('Идентификатор клиента:', customer3_1_id)\n",
        "\n",
        "customer_gender=transactions[transactions.customer_id==customer3_1_id].gender.max()\n",
        "print('Пол клиента:', customer_gender)\n",
        "\n",
        "max_income=transactions[transactions.customer_id==customer3_1_id].amount.max()\n",
        "date=transactions[transactions.amount==max_income].tr_datetime\n",
        "day=str(*date).split()[0]\n",
        "print('День, в который у клиента было максимальное поступление на счёт:', day)\n",
        "\n",
        "code=transactions[transactions.amount==max_income].mcc_code\n",
        "# print('mmc_code:',*code) #6010\n",
        "\n",
        "day_code_gender_trasctions=transactions[transactions.gender!=customer_gender][transactions.mcc_code==int(code)][transactions.tr_datetime.str.contains(day)]\n",
        "other_gender_max_amount=day_code_gender_trasctions.amount.max()\n",
        "# other_gender_max_amount\n",
        "other_gender_id=day_code_gender_trasctions[day_code_gender_trasctions.amount==other_gender_max_amount].customer_id\n",
        "print('id:', *other_gender_id)"
      ],
      "execution_count": null,
      "outputs": [
        {
          "output_type": "stream",
          "name": "stdout",
          "text": [
            "Идентификатор клиента: 70780820\n",
            "Пол клиента: 1.0\n",
            "День, в который у клиента было максимальное поступление на счёт: 410\n"
          ]
        },
        {
          "output_type": "stream",
          "name": "stderr",
          "text": [
            "/usr/local/lib/python3.7/dist-packages/ipykernel_launcher.py:14: UserWarning: Boolean Series key will be reindexed to match DataFrame index.\n",
            "  \n"
          ]
        },
        {
          "output_type": "stream",
          "name": "stdout",
          "text": [
            "id: 52920077\n"
          ]
        }
      ]
    },
    {
      "cell_type": "markdown",
      "metadata": {
        "id": "BYrJ5b_E8Jee"
      },
      "source": [
        "## Задание 4\n",
        "1. Найдите среднее арифметическое и медиану по amount по всем типам транзакций из топ 10 из задания 2\n",
        "1. Найдите среднее арифметическое и медиану по amount по всем типам транзакций для клиентов из задания 3"
      ]
    },
    {
      "cell_type": "code",
      "metadata": {
        "colab": {
          "base_uri": "https://localhost:8080/"
        },
        "id": "599l8iOVfzqP",
        "outputId": "2a3174e9-e6ac-4f52-d83a-e76795ba3e69"
      },
      "source": [
        "top10_transactions=transactions[transactions.tr_type.isin(top10_types.index)]\n",
        "print('Cреднее арифметическое по всем типам транзакций из топ 10 из задания 2')\n",
        "top10_transactions.groupby('tr_type').amount.mean()"
      ],
      "execution_count": null,
      "outputs": [
        {
          "output_type": "stream",
          "name": "stdout",
          "text": [
            "Cреднее арифметическое по всем типам транзакций из топ 10 из задания 2\n"
          ]
        },
        {
          "output_type": "execute_result",
          "data": {
            "text/plain": [
              "tr_type\n",
              "1010    -19784.748640\n",
              "1030     -5320.980222\n",
              "1100    -44061.827262\n",
              "1110    -32119.330371\n",
              "2010   -136077.629325\n",
              "2370   -205418.249032\n",
              "7010    276391.789596\n",
              "7030     86104.332909\n",
              "7070     65569.831700\n",
              "7071     66806.826623\n",
              "Name: amount, dtype: float64"
            ]
          },
          "metadata": {},
          "execution_count": 152
        }
      ]
    },
    {
      "cell_type": "code",
      "metadata": {
        "colab": {
          "base_uri": "https://localhost:8080/"
        },
        "id": "0tWsWavNILqe",
        "outputId": "97c598ab-d2c2-47ef-b4e6-d36070a3313a"
      },
      "source": [
        "print('\\nCреднее арифметическое по всем типам транзакций из топ 10 из задания 2')\n",
        "top10_transactions.groupby('tr_type').amount.median()"
      ],
      "execution_count": null,
      "outputs": [
        {
          "output_type": "stream",
          "name": "stdout",
          "text": [
            "\n",
            "Cреднее арифметическое по всем типам транзакций из топ 10 из задания 2\n"
          ]
        },
        {
          "output_type": "execute_result",
          "data": {
            "text/plain": [
              "tr_type\n",
              "1010     -7411.52\n",
              "1030     -2245.92\n",
              "1100    -10188.26\n",
              "1110    -11207.57\n",
              "2010    -44918.32\n",
              "2370    -44918.32\n",
              "7010    112295.79\n",
              "7030     13951.52\n",
              "7070     11319.42\n",
              "7071      3593.47\n",
              "Name: amount, dtype: float64"
            ]
          },
          "metadata": {},
          "execution_count": 151
        }
      ]
    },
    {
      "cell_type": "code",
      "metadata": {
        "colab": {
          "base_uri": "https://localhost:8080/"
        },
        "id": "yOO7h0HDh4M2",
        "outputId": "932d437d-a7e4-4947-9956-cb81bedb2e70"
      },
      "source": [
        "customer_tr_type=transactions[transactions.customer_id==customer3_1_id].groupby('tr_type')\n",
        "print('Cреднее арифметическое по amount по всем типам транзакций для первого клиентa из задания 3')\n",
        "customer_tr_type.mean().amount"
      ],
      "execution_count": null,
      "outputs": [
        {
          "output_type": "stream",
          "name": "stdout",
          "text": [
            "Cреднее арифметическое по amount по всем типам транзакций для первого клиентa из задания 3\n"
          ]
        },
        {
          "output_type": "execute_result",
          "data": {
            "text/plain": [
              "tr_type\n",
              "2010   -2.941056e+06\n",
              "2330   -2.382398e+06\n",
              "2370   -2.218505e+06\n",
              "6110    1.756293e+04\n",
              "7020    1.465129e+04\n",
              "7021    2.850067e+04\n",
              "7030    1.406196e+04\n",
              "7031    1.921036e+04\n",
              "7034    1.430648e+04\n",
              "7040    2.153833e+04\n",
              "7070    1.384821e+04\n",
              "7071    1.860057e+04\n",
              "7074    2.281159e+04\n",
              "Name: amount, dtype: float64"
            ]
          },
          "metadata": {},
          "execution_count": 156
        }
      ]
    },
    {
      "cell_type": "code",
      "metadata": {
        "colab": {
          "base_uri": "https://localhost:8080/"
        },
        "id": "HdGUMBaXIff0",
        "outputId": "9a1aedfa-ed1a-4564-ccb6-691cc759c276"
      },
      "source": [
        "print('Mедианa по amount по всем типам транзакций для первого клиентa из задания 3')\n",
        "customer_tr_type.mean().amount"
      ],
      "execution_count": null,
      "outputs": [
        {
          "output_type": "stream",
          "name": "stdout",
          "text": [
            "Mедианa по amount по всем типам транзакций для первого клиентa из задания 3\n"
          ]
        },
        {
          "output_type": "execute_result",
          "data": {
            "text/plain": [
              "tr_type\n",
              "2010   -2.941056e+06\n",
              "2330   -2.382398e+06\n",
              "2370   -2.218505e+06\n",
              "6110    1.756293e+04\n",
              "7020    1.465129e+04\n",
              "7021    2.850067e+04\n",
              "7030    1.406196e+04\n",
              "7031    1.921036e+04\n",
              "7034    1.430648e+04\n",
              "7040    2.153833e+04\n",
              "7070    1.384821e+04\n",
              "7071    1.860057e+04\n",
              "7074    2.281159e+04\n",
              "Name: amount, dtype: float64"
            ]
          },
          "metadata": {},
          "execution_count": 153
        }
      ]
    },
    {
      "cell_type": "code",
      "metadata": {
        "colab": {
          "base_uri": "https://localhost:8080/"
        },
        "id": "T5at-DYvIkw1",
        "outputId": "76260fce-c23c-486a-f2f7-46b9b1c360dd"
      },
      "source": [
        "customer_tr_type=transactions[transactions.customer_id==customer3_2_id].groupby('tr_type')\n",
        "print('\\nCреднее арифметическое по amount по всем типам транзакций для второго клиентa из задания 3')\n",
        "customer_tr_type.mean().amount"
      ],
      "execution_count": null,
      "outputs": [
        {
          "output_type": "stream",
          "name": "stdout",
          "text": [
            "\n",
            "Cреднее арифметическое по amount по всем типам транзакций для второго клиентa из задания 3\n"
          ]
        },
        {
          "output_type": "execute_result",
          "data": {
            "text/plain": [
              "tr_type\n",
              "2010   -2.941056e+06\n",
              "2330   -2.382398e+06\n",
              "2370   -2.218505e+06\n",
              "6110    1.756293e+04\n",
              "7020    1.465129e+04\n",
              "7021    2.850067e+04\n",
              "7030    1.406196e+04\n",
              "7031    1.921036e+04\n",
              "7034    1.430648e+04\n",
              "7040    2.153833e+04\n",
              "7070    1.384821e+04\n",
              "7071    1.860057e+04\n",
              "7074    2.281159e+04\n",
              "Name: amount, dtype: float64"
            ]
          },
          "metadata": {},
          "execution_count": 154
        }
      ]
    },
    {
      "cell_type": "code",
      "metadata": {
        "colab": {
          "base_uri": "https://localhost:8080/"
        },
        "id": "CWi6xR1wIo34",
        "outputId": "81e94281-ba1b-40de-dde6-e880937c8c62"
      },
      "source": [
        "print('Mедианa по amount по всем типам транзакций для второго клиентa из задания 3')\n",
        "customer_tr_type.mean().amount"
      ],
      "execution_count": null,
      "outputs": [
        {
          "output_type": "stream",
          "name": "stdout",
          "text": [
            "Mедианa по amount по всем типам транзакций для второго клиентa из задания 3\n"
          ]
        },
        {
          "output_type": "execute_result",
          "data": {
            "text/plain": [
              "tr_type\n",
              "2010   -2.941056e+06\n",
              "2330   -2.382398e+06\n",
              "2370   -2.218505e+06\n",
              "6110    1.756293e+04\n",
              "7020    1.465129e+04\n",
              "7021    2.850067e+04\n",
              "7030    1.406196e+04\n",
              "7031    1.921036e+04\n",
              "7034    1.430648e+04\n",
              "7040    2.153833e+04\n",
              "7070    1.384821e+04\n",
              "7071    1.860057e+04\n",
              "7074    2.281159e+04\n",
              "Name: amount, dtype: float64"
            ]
          },
          "metadata": {},
          "execution_count": 155
        }
      ]
    },
    {
      "cell_type": "markdown",
      "metadata": {
        "id": "BYXwM4l3QDBu"
      },
      "source": [
        "## Подготовка для заданий 5-8"
      ]
    },
    {
      "cell_type": "markdown",
      "metadata": {
        "id": "XWQzFeKcQHRe"
      },
      "source": [
        "*Из заданий 5-8 нужно выполнить минимум два любых*\n",
        "\n",
        "Соедините transactions с всеми остальными таблицами (tr_mcc_codes, tr_types, gender_train). Причём с gender_train необходимо смёрджиться с помощью left join, а с оставшимися датафреймами - через inner.\n",
        "После получения результата таблицы gender_train, tr_types, tr_mcc_codes можно удалить. В результате соединения датафреймов должно получиться 999584 строки."
      ]
    },
    {
      "cell_type": "code",
      "metadata": {
        "colab": {
          "base_uri": "https://localhost:8080/",
          "height": 546
        },
        "id": "sndJxjJ7QQf5",
        "outputId": "1da4e4ca-68cd-480b-f4ab-c3bd62c2bb61"
      },
      "source": [
        "transactions = pd.merge(transactions, gender_train, how='left')\n",
        "transactions = pd.merge(transactions, tr_mcc_codes, how='inner')\n",
        "transactions = pd.merge(transactions, tr_types, how='inner')\n",
        "print(transactions.shape)\n",
        "transactions.head(10)"
      ],
      "execution_count": null,
      "outputs": [
        {
          "output_type": "stream",
          "name": "stdout",
          "text": [
            "(999584, 9)\n"
          ]
        },
        {
          "output_type": "execute_result",
          "data": {
            "text/html": [
              "<div>\n",
              "<style scoped>\n",
              "    .dataframe tbody tr th:only-of-type {\n",
              "        vertical-align: middle;\n",
              "    }\n",
              "\n",
              "    .dataframe tbody tr th {\n",
              "        vertical-align: top;\n",
              "    }\n",
              "\n",
              "    .dataframe thead th {\n",
              "        text-align: right;\n",
              "    }\n",
              "</style>\n",
              "<table border=\"1\" class=\"dataframe\">\n",
              "  <thead>\n",
              "    <tr style=\"text-align: right;\">\n",
              "      <th></th>\n",
              "      <th>customer_id</th>\n",
              "      <th>tr_datetime</th>\n",
              "      <th>mcc_code</th>\n",
              "      <th>tr_type</th>\n",
              "      <th>amount</th>\n",
              "      <th>term_id</th>\n",
              "      <th>gender</th>\n",
              "      <th>mcc_description</th>\n",
              "      <th>tr_description</th>\n",
              "    </tr>\n",
              "  </thead>\n",
              "  <tbody>\n",
              "    <tr>\n",
              "      <th>0</th>\n",
              "      <td>39026145</td>\n",
              "      <td>0 10:23:26</td>\n",
              "      <td>4814</td>\n",
              "      <td>1030</td>\n",
              "      <td>-2245.92</td>\n",
              "      <td>NaN</td>\n",
              "      <td>1.0</td>\n",
              "      <td>Звонки с использованием телефонов, считывающих...</td>\n",
              "      <td>Оплата услуги. Банкоматы СБ РФ</td>\n",
              "    </tr>\n",
              "    <tr>\n",
              "      <th>1</th>\n",
              "      <td>39026145</td>\n",
              "      <td>6 07:08:31</td>\n",
              "      <td>4814</td>\n",
              "      <td>1030</td>\n",
              "      <td>-5614.79</td>\n",
              "      <td>NaN</td>\n",
              "      <td>1.0</td>\n",
              "      <td>Звонки с использованием телефонов, считывающих...</td>\n",
              "      <td>Оплата услуги. Банкоматы СБ РФ</td>\n",
              "    </tr>\n",
              "    <tr>\n",
              "      <th>2</th>\n",
              "      <td>39026145</td>\n",
              "      <td>8 07:06:10</td>\n",
              "      <td>4814</td>\n",
              "      <td>1030</td>\n",
              "      <td>-1122.96</td>\n",
              "      <td>NaN</td>\n",
              "      <td>1.0</td>\n",
              "      <td>Звонки с использованием телефонов, считывающих...</td>\n",
              "      <td>Оплата услуги. Банкоматы СБ РФ</td>\n",
              "    </tr>\n",
              "    <tr>\n",
              "      <th>3</th>\n",
              "      <td>39026145</td>\n",
              "      <td>11 08:49:03</td>\n",
              "      <td>4814</td>\n",
              "      <td>1030</td>\n",
              "      <td>-2245.92</td>\n",
              "      <td>NaN</td>\n",
              "      <td>1.0</td>\n",
              "      <td>Звонки с использованием телефонов, считывающих...</td>\n",
              "      <td>Оплата услуги. Банкоматы СБ РФ</td>\n",
              "    </tr>\n",
              "    <tr>\n",
              "      <th>4</th>\n",
              "      <td>39026145</td>\n",
              "      <td>11 14:12:08</td>\n",
              "      <td>4814</td>\n",
              "      <td>1030</td>\n",
              "      <td>-2245.92</td>\n",
              "      <td>NaN</td>\n",
              "      <td>1.0</td>\n",
              "      <td>Звонки с использованием телефонов, считывающих...</td>\n",
              "      <td>Оплата услуги. Банкоматы СБ РФ</td>\n",
              "    </tr>\n",
              "    <tr>\n",
              "      <th>5</th>\n",
              "      <td>39026145</td>\n",
              "      <td>11 14:15:30</td>\n",
              "      <td>4814</td>\n",
              "      <td>1030</td>\n",
              "      <td>-2245.92</td>\n",
              "      <td>NaN</td>\n",
              "      <td>1.0</td>\n",
              "      <td>Звонки с использованием телефонов, считывающих...</td>\n",
              "      <td>Оплата услуги. Банкоматы СБ РФ</td>\n",
              "    </tr>\n",
              "    <tr>\n",
              "      <th>6</th>\n",
              "      <td>39026145</td>\n",
              "      <td>13 11:17:34</td>\n",
              "      <td>4814</td>\n",
              "      <td>1030</td>\n",
              "      <td>-2245.92</td>\n",
              "      <td>NaN</td>\n",
              "      <td>1.0</td>\n",
              "      <td>Звонки с использованием телефонов, считывающих...</td>\n",
              "      <td>Оплата услуги. Банкоматы СБ РФ</td>\n",
              "    </tr>\n",
              "    <tr>\n",
              "      <th>7</th>\n",
              "      <td>39026145</td>\n",
              "      <td>18 07:39:05</td>\n",
              "      <td>4814</td>\n",
              "      <td>1030</td>\n",
              "      <td>-2245.92</td>\n",
              "      <td>NaN</td>\n",
              "      <td>1.0</td>\n",
              "      <td>Звонки с использованием телефонов, считывающих...</td>\n",
              "      <td>Оплата услуги. Банкоматы СБ РФ</td>\n",
              "    </tr>\n",
              "    <tr>\n",
              "      <th>8</th>\n",
              "      <td>39026145</td>\n",
              "      <td>19 13:24:35</td>\n",
              "      <td>4814</td>\n",
              "      <td>1030</td>\n",
              "      <td>-449.18</td>\n",
              "      <td>NaN</td>\n",
              "      <td>1.0</td>\n",
              "      <td>Звонки с использованием телефонов, считывающих...</td>\n",
              "      <td>Оплата услуги. Банкоматы СБ РФ</td>\n",
              "    </tr>\n",
              "    <tr>\n",
              "      <th>9</th>\n",
              "      <td>39026145</td>\n",
              "      <td>19 13:25:31</td>\n",
              "      <td>4814</td>\n",
              "      <td>1030</td>\n",
              "      <td>-1122.96</td>\n",
              "      <td>NaN</td>\n",
              "      <td>1.0</td>\n",
              "      <td>Звонки с использованием телефонов, считывающих...</td>\n",
              "      <td>Оплата услуги. Банкоматы СБ РФ</td>\n",
              "    </tr>\n",
              "  </tbody>\n",
              "</table>\n",
              "</div>"
            ],
            "text/plain": [
              "   customer_id  ...                  tr_description\n",
              "0     39026145  ...  Оплата услуги. Банкоматы СБ РФ\n",
              "1     39026145  ...  Оплата услуги. Банкоматы СБ РФ\n",
              "2     39026145  ...  Оплата услуги. Банкоматы СБ РФ\n",
              "3     39026145  ...  Оплата услуги. Банкоматы СБ РФ\n",
              "4     39026145  ...  Оплата услуги. Банкоматы СБ РФ\n",
              "5     39026145  ...  Оплата услуги. Банкоматы СБ РФ\n",
              "6     39026145  ...  Оплата услуги. Банкоматы СБ РФ\n",
              "7     39026145  ...  Оплата услуги. Банкоматы СБ РФ\n",
              "8     39026145  ...  Оплата услуги. Банкоматы СБ РФ\n",
              "9     39026145  ...  Оплата услуги. Банкоматы СБ РФ\n",
              "\n",
              "[10 rows x 9 columns]"
            ]
          },
          "metadata": {},
          "execution_count": 65
        }
      ]
    },
    {
      "cell_type": "markdown",
      "metadata": {
        "id": "8vrFauJ8QgmT"
      },
      "source": [
        "## Задание 5"
      ]
    },
    {
      "cell_type": "markdown",
      "metadata": {
        "id": "rOjEQ5xyQfE_"
      },
      "source": [
        "1. Определите модуль разницы между средними тратами женщин и мужчин (трата - отрицательное значение amount).\n",
        "2. Определите модуль разницы между средними поступлениями у мужчин и женщин\n",
        "\n",
        "Обратите внимание, что для вычисления модуля разности точных знаний о том, \n",
        "какой класc относится к мужчинам, а какой - к женщинам, не требуется."
      ]
    },
    {
      "cell_type": "code",
      "metadata": {
        "colab": {
          "base_uri": "https://localhost:8080/"
        },
        "id": "99YU5mNwl8GB",
        "outputId": "cff462e8-0705-40cd-9238-79bc6270bbc0"
      },
      "source": [
        "genders=transactions.groupby('gender')\n",
        "chads=genders.get_group(1)\n",
        "karens=genders.get_group(0)\n",
        "\n",
        "chads_waste=chads[chads.amount<0].amount.mean()\n",
        "chads_income=chads[chads.amount>0].amount.mean()\n",
        "\n",
        "karens_waste=karens[karens.amount<0].amount.mean()\n",
        "karens_income=karens[karens.amount>0].amount.mean()\n",
        "\n",
        "print('Модуль разницы между средними тратами жeнщин и мужчин', abs(chads_waste-karens_waste))\n",
        "print('Модуль разницы между средними поступлениями жeнщин и мужчин', abs(chads_income-karens_income))"
      ],
      "execution_count": null,
      "outputs": [
        {
          "output_type": "stream",
          "name": "stdout",
          "text": [
            "Модуль разницы между средними тратами жeнщин и мужчин 32718.05492022563\n",
            "Модуль разницы между средними поступлениями жeнщин и мужчин 63366.57104800751\n"
          ]
        }
      ]
    },
    {
      "cell_type": "markdown",
      "metadata": {
        "id": "DSHFLbepQ7G1"
      },
      "source": [
        "## Задание 6"
      ]
    },
    {
      "cell_type": "markdown",
      "metadata": {
        "id": "2EF1490bQ-17"
      },
      "source": [
        "1. По всем типам транзакций рассчитайте максимальную сумму прихода на карту (из строго положительных сумм по столбцу amount) отдельно для мужчин и женщин (назовите ее \"max_income\"). Оставьте по 10 транзакций для мужчин и для женщин, наименьших среди всех транзакций по полученным значениям \"max_income\". \n",
        "2. Выделите среди них те типы транзакций, которые встречаются одновременно и у мужчин, и у женщин"
      ]
    },
    {
      "cell_type": "code",
      "metadata": {
        "id": "2gMhTDsjh40S",
        "colab": {
          "base_uri": "https://localhost:8080/"
        },
        "outputId": "0c62abac-b5ca-4cbf-f2c8-35de57812f0c"
      },
      "source": [
        "'''\n",
        "Выбираем только положительные транзакции (пополнение), группируем по полу и типу транзакций.\n",
        "Осталось только проссумировать amount, чтобы получить сумму пополнений для каждого типа транзакций для каждого пола \n",
        "'''\n",
        "max_income=transactions[transactions.amount>0].groupby(['gender','tr_type']).amount.sum()\n",
        "# Отсортируем получившиеся значения для каждого пола и оставим только 10 наименьших\n",
        "men_max_income=max_income[1].sort_values().head(10)\n",
        "women_max_income=max_income[0].sort_values().head(10)\n",
        "print('Максимальная суммa прихода на карту для мужчин:\\n',men_max_income)\n",
        "print('\\nМаксимальная суммa прихода на карту для женщиин:\\n',women_max_income)\n",
        "\n",
        "print('\\nТипы транзакций, которые встречаются одновременно и у мужчин, и у женщин:')\n",
        "for t in (men_max_income.index).intersection(women_max_income.index):\n",
        "  print(t)"
      ],
      "execution_count": null,
      "outputs": [
        {
          "output_type": "stream",
          "name": "stdout",
          "text": [
            "Максимальная суммa прихода на карту для мужчин:\n",
            " tr_type\n",
            "2020      2245.92\n",
            "4110      4491.84\n",
            "1010     35317.03\n",
            "8100     64682.37\n",
            "6000     79280.83\n",
            "7041     87590.72\n",
            "2370    113194.15\n",
            "7015    121279.45\n",
            "2110    179673.26\n",
            "2010    224591.59\n",
            "Name: amount, dtype: float64\n",
            "\n",
            "Максимальная суммa прихода на карту для женщиин:\n",
            " tr_type\n",
            "4051     1122.96\n",
            "4210     2245.92\n",
            "4110     2245.92\n",
            "2370     2335.75\n",
            "7075     6737.75\n",
            "2110    22459.16\n",
            "1010    31532.66\n",
            "4100    40334.88\n",
            "2210    68315.82\n",
            "1210    83644.87\n",
            "Name: amount, dtype: float64\n",
            "\n",
            "Типы транзакций, которые встречаются одновременно и у мужчин, и у женщин:\n",
            "4110\n",
            "1010\n",
            "2370\n",
            "2110\n"
          ]
        }
      ]
    },
    {
      "cell_type": "markdown",
      "metadata": {
        "id": "W-LaVwRdR3UB"
      },
      "source": [
        "## Задание 7"
      ]
    },
    {
      "cell_type": "markdown",
      "metadata": {
        "id": "rhI4NOciR7e0"
      },
      "source": [
        "1. Найдите суммы затрат по каждой категории (mcc) для мужчин и для женщин. \n",
        "2. Найдите топ 5 категорий с самыми большими относительными модулями разности в тратах для разных полов."
      ]
    },
    {
      "cell_type": "markdown",
      "metadata": {
        "id": "aGaPkQkVSvl8"
      },
      "source": [
        "## Задание 8"
      ]
    },
    {
      "cell_type": "markdown",
      "metadata": {
        "id": "T7Ox1qAXTHQl"
      },
      "source": [
        "1. Из поля tr_datetime выделите час tr_hour, в который произошла транзакция, как первые 2 цифры до \":\". (\\**)\n",
        "2. Посчитайте количество транзакций с amount<0 в ночное время для мужчин и женщин. Ночное время - это примерно 00-06 часов. "
      ]
    }
  ]
}
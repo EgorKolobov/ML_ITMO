{
  "nbformat": 4,
  "nbformat_minor": 0,
  "metadata": {
    "colab": {
      "name": "Copy of lab5.ipynb",
      "provenance": [],
      "collapsed_sections": []
    },
    "kernelspec": {
      "display_name": "Python 3",
      "language": "python",
      "name": "python3"
    },
    "language_info": {
      "codemirror_mode": {
        "name": "ipython",
        "version": 3
      },
      "file_extension": ".py",
      "mimetype": "text/x-python",
      "name": "python",
      "nbconvert_exporter": "python",
      "pygments_lexer": "ipython3",
      "version": "3.5.2"
    }
  },
  "cells": [
    {
      "cell_type": "markdown",
      "metadata": {
        "id": "UHX9p5jfTySS"
      },
      "source": [
        "## Задание 5.1"
      ]
    },
    {
      "cell_type": "markdown",
      "metadata": {
        "id": "0EnHNZtbXlH0"
      },
      "source": [
        "Набор данных тут: https://github.com/sismetanin/rureviews, также есть в папке [Data](https://drive.google.com/drive/folders/1YAMe7MiTxA-RSSd8Ex2p-L0Dspe6Gs4L). Те, кто предпочитает работать с английским языком, могут использовать набор данных `sms_spam`."
      ]
    },
    {
      "cell_type": "markdown",
      "metadata": {
        "id": "bJox-LoonoPx"
      },
      "source": [
        "Применим полученные навыки и решим задачу анализа тональности отзывов. \n",
        "\n",
        "Нужно повторить весь пайплайн от сырых текстов до получения обученной модели.\n",
        "\n",
        "Обязательные шаги предобработки:\n",
        "1. токенизация\n",
        "2. приведение к нижнему регистру\n",
        "3. удаление стоп-слов\n",
        "4. лемматизация\n",
        "5. векторизация (с настройкой гиперпараметров)\n",
        "6. построение модели\n",
        "7. оценка качества модели\n",
        "\n",
        "Обязательно использование векторайзеров:\n",
        "1. мешок n-грамм (диапазон для n подбирайте самостоятельно, запрещено использовать только униграммы).\n",
        "2. tf-idf ((диапазон для n подбирайте самостоятельно, также нужно подбирать параметры max_df, min_df, max_features)\n",
        "3. символьные n-граммы (диапазон для n подбирайте самостоятельно)\n",
        "\n",
        "В качестве классификатора нужно использовать наивный байесовский классификатор. \n",
        "\n",
        "Для сравнения векторайзеров между собой используйте precision, recall, f1-score и accuracy. Для этого сформируйте датафрейм, в котором в строках будут разные векторайзеры, а в столбцах разные метрики качества, а в  ячейках будут значения этих метрик для соответсвующих векторайзеров."
      ]
    },
    {
      "cell_type": "code",
      "metadata": {
        "colab": {
          "base_uri": "https://localhost:8080/"
        },
        "id": "aujv-kTLQNnv",
        "outputId": "713ce058-f983-439c-ff2e-8aebadd57c93"
      },
      "source": [
        "!pip install pymorphy2"
      ],
      "execution_count": null,
      "outputs": [
        {
          "output_type": "stream",
          "name": "stdout",
          "text": [
            "Requirement already satisfied: pymorphy2 in /usr/local/lib/python3.7/dist-packages (0.9.1)\n",
            "Requirement already satisfied: pymorphy2-dicts-ru<3.0,>=2.4 in /usr/local/lib/python3.7/dist-packages (from pymorphy2) (2.4.417127.4579844)\n",
            "Requirement already satisfied: docopt>=0.6 in /usr/local/lib/python3.7/dist-packages (from pymorphy2) (0.6.2)\n",
            "Requirement already satisfied: dawg-python>=0.7.1 in /usr/local/lib/python3.7/dist-packages (from pymorphy2) (0.7.2)\n"
          ]
        }
      ]
    },
    {
      "cell_type": "code",
      "metadata": {
        "colab": {
          "base_uri": "https://localhost:8080/"
        },
        "id": "kEU0mzqdQ-Ro",
        "outputId": "94425cf5-f13d-4e39-e132-6ed2d80e7543"
      },
      "source": [
        "import pandas as pd\n",
        "import numpy as np\n",
        "\n",
        "import math\n",
        "import nltk \n",
        "import string\n",
        "import re\n",
        "\n",
        "from sklearn.metrics import * \n",
        "from sklearn.model_selection import train_test_split\n",
        "from sklearn.naive_bayes import MultinomialNB\n",
        "from sklearn.feature_extraction.text import CountVectorizer\n",
        "from sklearn.feature_extraction.text import TfidfVectorizer\n",
        "\n",
        "from nltk.tokenize import word_tokenize\n",
        "from nltk.corpus import stopwords\n",
        "\n",
        "from pymorphy2 import MorphAnalyzer\n",
        "\n",
        "from google.colab import drive\n",
        "drive.mount('/content/drive/')\n",
        "\n",
        "nltk.download('stopwords')\n",
        "nltk.download('punkt')"
      ],
      "execution_count": null,
      "outputs": [
        {
          "output_type": "stream",
          "name": "stdout",
          "text": [
            "Drive already mounted at /content/drive/; to attempt to forcibly remount, call drive.mount(\"/content/drive/\", force_remount=True).\n",
            "[nltk_data] Downloading package stopwords to /root/nltk_data...\n",
            "[nltk_data]   Package stopwords is already up-to-date!\n",
            "[nltk_data] Downloading package punkt to /root/nltk_data...\n",
            "[nltk_data]   Package punkt is already up-to-date!\n"
          ]
        },
        {
          "output_type": "execute_result",
          "data": {
            "text/plain": [
              "True"
            ]
          },
          "metadata": {},
          "execution_count": 3
        }
      ]
    },
    {
      "cell_type": "code",
      "metadata": {
        "colab": {
          "base_uri": "https://localhost:8080/",
          "height": 206
        },
        "id": "c-vNNuVPRs38",
        "outputId": "171183b6-5f62-4552-fd0b-bf0ee085a2ff"
      },
      "source": [
        "data = pd.read_csv(\"/content/drive/MyDrive/Data/women-clothing-accessories.csv\", sep=\"\\t\", usecols=[0, 1])\n",
        "data.head()"
      ],
      "execution_count": null,
      "outputs": [
        {
          "output_type": "execute_result",
          "data": {
            "text/html": [
              "\n",
              "  <div id=\"df-846e0015-ed36-4555-96a1-1aa63d81f3da\">\n",
              "    <div class=\"colab-df-container\">\n",
              "      <div>\n",
              "<style scoped>\n",
              "    .dataframe tbody tr th:only-of-type {\n",
              "        vertical-align: middle;\n",
              "    }\n",
              "\n",
              "    .dataframe tbody tr th {\n",
              "        vertical-align: top;\n",
              "    }\n",
              "\n",
              "    .dataframe thead th {\n",
              "        text-align: right;\n",
              "    }\n",
              "</style>\n",
              "<table border=\"1\" class=\"dataframe\">\n",
              "  <thead>\n",
              "    <tr style=\"text-align: right;\">\n",
              "      <th></th>\n",
              "      <th>review</th>\n",
              "      <th>sentiment</th>\n",
              "    </tr>\n",
              "  </thead>\n",
              "  <tbody>\n",
              "    <tr>\n",
              "      <th>0</th>\n",
              "      <td>качество плохое пошив ужасный (горловина напер...</td>\n",
              "      <td>negative</td>\n",
              "    </tr>\n",
              "    <tr>\n",
              "      <th>1</th>\n",
              "      <td>Товар отдали другому человеку, я не получила п...</td>\n",
              "      <td>negative</td>\n",
              "    </tr>\n",
              "    <tr>\n",
              "      <th>2</th>\n",
              "      <td>Ужасная синтетика! Тонкая, ничего общего с пре...</td>\n",
              "      <td>negative</td>\n",
              "    </tr>\n",
              "    <tr>\n",
              "      <th>3</th>\n",
              "      <td>товар не пришел, продавец продлил защиту без м...</td>\n",
              "      <td>negative</td>\n",
              "    </tr>\n",
              "    <tr>\n",
              "      <th>4</th>\n",
              "      <td>Кофточка голая синтетика, носить не возможно.</td>\n",
              "      <td>negative</td>\n",
              "    </tr>\n",
              "  </tbody>\n",
              "</table>\n",
              "</div>\n",
              "      <button class=\"colab-df-convert\" onclick=\"convertToInteractive('df-846e0015-ed36-4555-96a1-1aa63d81f3da')\"\n",
              "              title=\"Convert this dataframe to an interactive table.\"\n",
              "              style=\"display:none;\">\n",
              "        \n",
              "  <svg xmlns=\"http://www.w3.org/2000/svg\" height=\"24px\"viewBox=\"0 0 24 24\"\n",
              "       width=\"24px\">\n",
              "    <path d=\"M0 0h24v24H0V0z\" fill=\"none\"/>\n",
              "    <path d=\"M18.56 5.44l.94 2.06.94-2.06 2.06-.94-2.06-.94-.94-2.06-.94 2.06-2.06.94zm-11 1L8.5 8.5l.94-2.06 2.06-.94-2.06-.94L8.5 2.5l-.94 2.06-2.06.94zm10 10l.94 2.06.94-2.06 2.06-.94-2.06-.94-.94-2.06-.94 2.06-2.06.94z\"/><path d=\"M17.41 7.96l-1.37-1.37c-.4-.4-.92-.59-1.43-.59-.52 0-1.04.2-1.43.59L10.3 9.45l-7.72 7.72c-.78.78-.78 2.05 0 2.83L4 21.41c.39.39.9.59 1.41.59.51 0 1.02-.2 1.41-.59l7.78-7.78 2.81-2.81c.8-.78.8-2.07 0-2.86zM5.41 20L4 18.59l7.72-7.72 1.47 1.35L5.41 20z\"/>\n",
              "  </svg>\n",
              "      </button>\n",
              "      \n",
              "  <style>\n",
              "    .colab-df-container {\n",
              "      display:flex;\n",
              "      flex-wrap:wrap;\n",
              "      gap: 12px;\n",
              "    }\n",
              "\n",
              "    .colab-df-convert {\n",
              "      background-color: #E8F0FE;\n",
              "      border: none;\n",
              "      border-radius: 50%;\n",
              "      cursor: pointer;\n",
              "      display: none;\n",
              "      fill: #1967D2;\n",
              "      height: 32px;\n",
              "      padding: 0 0 0 0;\n",
              "      width: 32px;\n",
              "    }\n",
              "\n",
              "    .colab-df-convert:hover {\n",
              "      background-color: #E2EBFA;\n",
              "      box-shadow: 0px 1px 2px rgba(60, 64, 67, 0.3), 0px 1px 3px 1px rgba(60, 64, 67, 0.15);\n",
              "      fill: #174EA6;\n",
              "    }\n",
              "\n",
              "    [theme=dark] .colab-df-convert {\n",
              "      background-color: #3B4455;\n",
              "      fill: #D2E3FC;\n",
              "    }\n",
              "\n",
              "    [theme=dark] .colab-df-convert:hover {\n",
              "      background-color: #434B5C;\n",
              "      box-shadow: 0px 1px 3px 1px rgba(0, 0, 0, 0.15);\n",
              "      filter: drop-shadow(0px 1px 2px rgba(0, 0, 0, 0.3));\n",
              "      fill: #FFFFFF;\n",
              "    }\n",
              "  </style>\n",
              "\n",
              "      <script>\n",
              "        const buttonEl =\n",
              "          document.querySelector('#df-846e0015-ed36-4555-96a1-1aa63d81f3da button.colab-df-convert');\n",
              "        buttonEl.style.display =\n",
              "          google.colab.kernel.accessAllowed ? 'block' : 'none';\n",
              "\n",
              "        async function convertToInteractive(key) {\n",
              "          const element = document.querySelector('#df-846e0015-ed36-4555-96a1-1aa63d81f3da');\n",
              "          const dataTable =\n",
              "            await google.colab.kernel.invokeFunction('convertToInteractive',\n",
              "                                                     [key], {});\n",
              "          if (!dataTable) return;\n",
              "\n",
              "          const docLinkHtml = 'Like what you see? Visit the ' +\n",
              "            '<a target=\"_blank\" href=https://colab.research.google.com/notebooks/data_table.ipynb>data table notebook</a>'\n",
              "            + ' to learn more about interactive tables.';\n",
              "          element.innerHTML = '';\n",
              "          dataTable['output_type'] = 'display_data';\n",
              "          await google.colab.output.renderOutput(dataTable, element);\n",
              "          const docLink = document.createElement('div');\n",
              "          docLink.innerHTML = docLinkHtml;\n",
              "          element.appendChild(docLink);\n",
              "        }\n",
              "      </script>\n",
              "    </div>\n",
              "  </div>\n",
              "  "
            ],
            "text/plain": [
              "                                              review sentiment\n",
              "0  качество плохое пошив ужасный (горловина напер...  negative\n",
              "1  Товар отдали другому человеку, я не получила п...  negative\n",
              "2  Ужасная синтетика! Тонкая, ничего общего с пре...  negative\n",
              "3  товар не пришел, продавец продлил защиту без м...  negative\n",
              "4      Кофточка голая синтетика, носить не возможно.  negative"
            ]
          },
          "metadata": {},
          "execution_count": 4
        }
      ]
    },
    {
      "cell_type": "code",
      "metadata": {
        "colab": {
          "base_uri": "https://localhost:8080/",
          "height": 206
        },
        "id": "uTjRdT-gQf4H",
        "outputId": "068c2665-a2bf-4a0c-e1c1-1f1eda87537a"
      },
      "source": [
        "def lemmatize(text):\n",
        "  pymorphy2_analyzer = MorphAnalyzer()\n",
        "  sentences = [] # Список предложений. Тут будет обработанный text\n",
        "  for s in text: # Проходимся по каждой строке в тексте\n",
        "    for ch in string.punctuation: # убираем всю пунктуацию из строки\n",
        "      s = s.replace(ch,\"\")\n",
        "    # приводим все слова в строке к начальной форме и нижнему регистру. Получаем normalized_tokenized_s - список лемм\n",
        "    normalized_tokenized_s = [pymorphy2_analyzer.parse(word)[0].normal_form.lower() for word in word_tokenize(s)]\n",
        "    sentences += [\" \".join(normalized_tokenized_s)] # Соединяем обратно все леммы через пробел и записываем получившуюся строку в список предложений\n",
        "  return sentences\n",
        "\n",
        "lemm_data = data\n",
        "lemm_data.review = lemmatize(data.review)\n",
        "lemm_data.head()"
      ],
      "execution_count": null,
      "outputs": [
        {
          "output_type": "execute_result",
          "data": {
            "text/html": [
              "\n",
              "  <div id=\"df-053f6434-0c1a-4396-b584-64d9afb485ba\">\n",
              "    <div class=\"colab-df-container\">\n",
              "      <div>\n",
              "<style scoped>\n",
              "    .dataframe tbody tr th:only-of-type {\n",
              "        vertical-align: middle;\n",
              "    }\n",
              "\n",
              "    .dataframe tbody tr th {\n",
              "        vertical-align: top;\n",
              "    }\n",
              "\n",
              "    .dataframe thead th {\n",
              "        text-align: right;\n",
              "    }\n",
              "</style>\n",
              "<table border=\"1\" class=\"dataframe\">\n",
              "  <thead>\n",
              "    <tr style=\"text-align: right;\">\n",
              "      <th></th>\n",
              "      <th>review</th>\n",
              "      <th>sentiment</th>\n",
              "    </tr>\n",
              "  </thead>\n",
              "  <tbody>\n",
              "    <tr>\n",
              "      <th>0</th>\n",
              "      <td>качество плохой пошив ужасный горловина напере...</td>\n",
              "      <td>negative</td>\n",
              "    </tr>\n",
              "    <tr>\n",
              "      <th>1</th>\n",
              "      <td>товар отдать другой человек я не получить посы...</td>\n",
              "      <td>negative</td>\n",
              "    </tr>\n",
              "    <tr>\n",
              "      <th>2</th>\n",
              "      <td>ужасный синтетик тонкий ничего общий с предста...</td>\n",
              "      <td>negative</td>\n",
              "    </tr>\n",
              "    <tr>\n",
              "      <th>3</th>\n",
              "      <td>товар не прийти продавец продлить защита без м...</td>\n",
              "      <td>negative</td>\n",
              "    </tr>\n",
              "    <tr>\n",
              "      <th>4</th>\n",
              "      <td>кофточка голый синтетик носить не возможно</td>\n",
              "      <td>negative</td>\n",
              "    </tr>\n",
              "  </tbody>\n",
              "</table>\n",
              "</div>\n",
              "      <button class=\"colab-df-convert\" onclick=\"convertToInteractive('df-053f6434-0c1a-4396-b584-64d9afb485ba')\"\n",
              "              title=\"Convert this dataframe to an interactive table.\"\n",
              "              style=\"display:none;\">\n",
              "        \n",
              "  <svg xmlns=\"http://www.w3.org/2000/svg\" height=\"24px\"viewBox=\"0 0 24 24\"\n",
              "       width=\"24px\">\n",
              "    <path d=\"M0 0h24v24H0V0z\" fill=\"none\"/>\n",
              "    <path d=\"M18.56 5.44l.94 2.06.94-2.06 2.06-.94-2.06-.94-.94-2.06-.94 2.06-2.06.94zm-11 1L8.5 8.5l.94-2.06 2.06-.94-2.06-.94L8.5 2.5l-.94 2.06-2.06.94zm10 10l.94 2.06.94-2.06 2.06-.94-2.06-.94-.94-2.06-.94 2.06-2.06.94z\"/><path d=\"M17.41 7.96l-1.37-1.37c-.4-.4-.92-.59-1.43-.59-.52 0-1.04.2-1.43.59L10.3 9.45l-7.72 7.72c-.78.78-.78 2.05 0 2.83L4 21.41c.39.39.9.59 1.41.59.51 0 1.02-.2 1.41-.59l7.78-7.78 2.81-2.81c.8-.78.8-2.07 0-2.86zM5.41 20L4 18.59l7.72-7.72 1.47 1.35L5.41 20z\"/>\n",
              "  </svg>\n",
              "      </button>\n",
              "      \n",
              "  <style>\n",
              "    .colab-df-container {\n",
              "      display:flex;\n",
              "      flex-wrap:wrap;\n",
              "      gap: 12px;\n",
              "    }\n",
              "\n",
              "    .colab-df-convert {\n",
              "      background-color: #E8F0FE;\n",
              "      border: none;\n",
              "      border-radius: 50%;\n",
              "      cursor: pointer;\n",
              "      display: none;\n",
              "      fill: #1967D2;\n",
              "      height: 32px;\n",
              "      padding: 0 0 0 0;\n",
              "      width: 32px;\n",
              "    }\n",
              "\n",
              "    .colab-df-convert:hover {\n",
              "      background-color: #E2EBFA;\n",
              "      box-shadow: 0px 1px 2px rgba(60, 64, 67, 0.3), 0px 1px 3px 1px rgba(60, 64, 67, 0.15);\n",
              "      fill: #174EA6;\n",
              "    }\n",
              "\n",
              "    [theme=dark] .colab-df-convert {\n",
              "      background-color: #3B4455;\n",
              "      fill: #D2E3FC;\n",
              "    }\n",
              "\n",
              "    [theme=dark] .colab-df-convert:hover {\n",
              "      background-color: #434B5C;\n",
              "      box-shadow: 0px 1px 3px 1px rgba(0, 0, 0, 0.15);\n",
              "      filter: drop-shadow(0px 1px 2px rgba(0, 0, 0, 0.3));\n",
              "      fill: #FFFFFF;\n",
              "    }\n",
              "  </style>\n",
              "\n",
              "      <script>\n",
              "        const buttonEl =\n",
              "          document.querySelector('#df-053f6434-0c1a-4396-b584-64d9afb485ba button.colab-df-convert');\n",
              "        buttonEl.style.display =\n",
              "          google.colab.kernel.accessAllowed ? 'block' : 'none';\n",
              "\n",
              "        async function convertToInteractive(key) {\n",
              "          const element = document.querySelector('#df-053f6434-0c1a-4396-b584-64d9afb485ba');\n",
              "          const dataTable =\n",
              "            await google.colab.kernel.invokeFunction('convertToInteractive',\n",
              "                                                     [key], {});\n",
              "          if (!dataTable) return;\n",
              "\n",
              "          const docLinkHtml = 'Like what you see? Visit the ' +\n",
              "            '<a target=\"_blank\" href=https://colab.research.google.com/notebooks/data_table.ipynb>data table notebook</a>'\n",
              "            + ' to learn more about interactive tables.';\n",
              "          element.innerHTML = '';\n",
              "          dataTable['output_type'] = 'display_data';\n",
              "          await google.colab.output.renderOutput(dataTable, element);\n",
              "          const docLink = document.createElement('div');\n",
              "          docLink.innerHTML = docLinkHtml;\n",
              "          element.appendChild(docLink);\n",
              "        }\n",
              "      </script>\n",
              "    </div>\n",
              "  </div>\n",
              "  "
            ],
            "text/plain": [
              "                                              review sentiment\n",
              "0  качество плохой пошив ужасный горловина напере...  negative\n",
              "1  товар отдать другой человек я не получить посы...  negative\n",
              "2  ужасный синтетик тонкий ничего общий с предста...  negative\n",
              "3  товар не прийти продавец продлить защита без м...  negative\n",
              "4         кофточка голый синтетик носить не возможно  negative"
            ]
          },
          "metadata": {},
          "execution_count": 5
        }
      ]
    },
    {
      "cell_type": "code",
      "metadata": {
        "id": "E6jkK7JPWgpz"
      },
      "source": [
        "# Разделяем на тренировочную и тестовую выборки\n",
        "x_train, x_test, y_train, y_test = train_test_split(lemm_data.review, data.sentiment, train_size = 0.7)"
      ],
      "execution_count": null,
      "outputs": []
    },
    {
      "cell_type": "code",
      "metadata": {
        "id": "YssC4O6J105K"
      },
      "source": [
        "# сначала обучаем наш векторизатор, а потом сразу применяем его к нашему набору данных\"\n",
        "def vectorizer_fit_transform(vectorizer):\n",
        "  return vectorizer, vectorizer.fit_transform(x_train)\n",
        "\n",
        "def bayes_classifier(vectorizer, vectorizer_x_train): # Обёртка над байесовским классификатор, чтобы получить доп. метрики\n",
        "  clf = MultinomialNB() # Наивный байесовский классификатор\n",
        "  clf.fit(vectorizer_x_train, y_train) # обучаем модель\n",
        "  vectorizer_x_test = vectorizer.transform(x_test) # готовим тестовый векторизатор\n",
        "  pred = clf.predict(vectorizer_x_test) # получаем предсказание\n",
        "  # classification_report выдаст сразу несколько важных метрик типо точности, f1-score и т.д., vectorizer содержит параметры векторизатора(очевидно)\n",
        "  return classification_report(y_test, pred, output_dict=True), vectorizer "
      ],
      "execution_count": null,
      "outputs": []
    },
    {
      "cell_type": "markdown",
      "metadata": {
        "id": "exnqwSQw3U0x"
      },
      "source": [
        "## CountVectorizer с параметром analyzer=\"word\" (мешок n-грамм)\n"
      ]
    },
    {
      "cell_type": "code",
      "metadata": {
        "id": "lexZHvfBfRHA"
      },
      "source": [
        "count_vectorizer_results = [] # list tuple-ов, на первом месте которого - dict с метриками от classification_report, а на втором - параметры векторайзера\n",
        "for i in range(1, 6):\n",
        "  for j in range(i+1,7):\n",
        "    count_vectorizer, count_vectorizer_x_train = vectorizer_fit_transform(CountVectorizer(ngram_range=(i,j), stop_words=stopwords.words(\"russian\"), analyzer=\"word\"))\n",
        "    count_vectorizer_results += [bayes_classifier(count_vectorizer, count_vectorizer_x_train)]"
      ],
      "execution_count": null,
      "outputs": []
    },
    {
      "cell_type": "code",
      "metadata": {
        "id": "dmaZns7EmHox",
        "colab": {
          "base_uri": "https://localhost:8080/",
          "height": 206
        },
        "outputId": "64397caf-49ab-4d52-d08f-5b6a8dd4a2a4"
      },
      "source": [
        "# Тут создадим DataFrame для CountVectorizer с параметром analyzer=\"word\".\n",
        "dict_data = []\n",
        "for i, vectorizer in enumerate(count_vectorizer_results):\n",
        "  if i == 0:\n",
        "    continue\n",
        "  metrics = vectorizer[0] # метрики от classification_report\n",
        "  shape = re.findall('ngram_range=\\([0-9]+, [0-9]+\\)', str(vectorizer[1]))[0][12::] # достаём ngram_range регулярками\n",
        "  dict_data += [{'Vectorizer' : 'CountVectorizer', 'Analyzer type' : 'word', 'ngram_range' : shape, 'Accuracy' : metrics['accuracy'], 'WA Precision' : metrics['weighted avg']['precision'], 'WA f1-score' : metrics['weighted avg']['f1-score'], 'WA recall' : metrics['weighted avg']['recall']}]\n",
        "count_vectorizer_df = pd.DataFrame(dict_data)\n",
        "count_vectorizer_df.sort_values(by=['Accuracy'], ascending=False).head() # Сортируем по метрике Accuracy"
      ],
      "execution_count": null,
      "outputs": [
        {
          "output_type": "execute_result",
          "data": {
            "text/html": [
              "\n",
              "  <div id=\"df-86b821c5-3654-48bd-9192-1d43d1b39e92\">\n",
              "    <div class=\"colab-df-container\">\n",
              "      <div>\n",
              "<style scoped>\n",
              "    .dataframe tbody tr th:only-of-type {\n",
              "        vertical-align: middle;\n",
              "    }\n",
              "\n",
              "    .dataframe tbody tr th {\n",
              "        vertical-align: top;\n",
              "    }\n",
              "\n",
              "    .dataframe thead th {\n",
              "        text-align: right;\n",
              "    }\n",
              "</style>\n",
              "<table border=\"1\" class=\"dataframe\">\n",
              "  <thead>\n",
              "    <tr style=\"text-align: right;\">\n",
              "      <th></th>\n",
              "      <th>Vectorizer</th>\n",
              "      <th>Analyzer type</th>\n",
              "      <th>ngram_range</th>\n",
              "      <th>Accuracy</th>\n",
              "      <th>WA Precision</th>\n",
              "      <th>WA f1-score</th>\n",
              "      <th>WA recall</th>\n",
              "    </tr>\n",
              "  </thead>\n",
              "  <tbody>\n",
              "    <tr>\n",
              "      <th>0</th>\n",
              "      <td>CountVectorizer</td>\n",
              "      <td>word</td>\n",
              "      <td>(1, 3)</td>\n",
              "      <td>0.714048</td>\n",
              "      <td>0.713459</td>\n",
              "      <td>0.713640</td>\n",
              "      <td>0.714048</td>\n",
              "    </tr>\n",
              "    <tr>\n",
              "      <th>1</th>\n",
              "      <td>CountVectorizer</td>\n",
              "      <td>word</td>\n",
              "      <td>(1, 4)</td>\n",
              "      <td>0.713899</td>\n",
              "      <td>0.713000</td>\n",
              "      <td>0.713383</td>\n",
              "      <td>0.713899</td>\n",
              "    </tr>\n",
              "    <tr>\n",
              "      <th>2</th>\n",
              "      <td>CountVectorizer</td>\n",
              "      <td>word</td>\n",
              "      <td>(1, 5)</td>\n",
              "      <td>0.713825</td>\n",
              "      <td>0.712814</td>\n",
              "      <td>0.713266</td>\n",
              "      <td>0.713825</td>\n",
              "    </tr>\n",
              "    <tr>\n",
              "      <th>3</th>\n",
              "      <td>CountVectorizer</td>\n",
              "      <td>word</td>\n",
              "      <td>(1, 6)</td>\n",
              "      <td>0.713677</td>\n",
              "      <td>0.712611</td>\n",
              "      <td>0.713096</td>\n",
              "      <td>0.713677</td>\n",
              "    </tr>\n",
              "    <tr>\n",
              "      <th>4</th>\n",
              "      <td>CountVectorizer</td>\n",
              "      <td>word</td>\n",
              "      <td>(2, 3)</td>\n",
              "      <td>0.667272</td>\n",
              "      <td>0.663833</td>\n",
              "      <td>0.663591</td>\n",
              "      <td>0.667272</td>\n",
              "    </tr>\n",
              "  </tbody>\n",
              "</table>\n",
              "</div>\n",
              "      <button class=\"colab-df-convert\" onclick=\"convertToInteractive('df-86b821c5-3654-48bd-9192-1d43d1b39e92')\"\n",
              "              title=\"Convert this dataframe to an interactive table.\"\n",
              "              style=\"display:none;\">\n",
              "        \n",
              "  <svg xmlns=\"http://www.w3.org/2000/svg\" height=\"24px\"viewBox=\"0 0 24 24\"\n",
              "       width=\"24px\">\n",
              "    <path d=\"M0 0h24v24H0V0z\" fill=\"none\"/>\n",
              "    <path d=\"M18.56 5.44l.94 2.06.94-2.06 2.06-.94-2.06-.94-.94-2.06-.94 2.06-2.06.94zm-11 1L8.5 8.5l.94-2.06 2.06-.94-2.06-.94L8.5 2.5l-.94 2.06-2.06.94zm10 10l.94 2.06.94-2.06 2.06-.94-2.06-.94-.94-2.06-.94 2.06-2.06.94z\"/><path d=\"M17.41 7.96l-1.37-1.37c-.4-.4-.92-.59-1.43-.59-.52 0-1.04.2-1.43.59L10.3 9.45l-7.72 7.72c-.78.78-.78 2.05 0 2.83L4 21.41c.39.39.9.59 1.41.59.51 0 1.02-.2 1.41-.59l7.78-7.78 2.81-2.81c.8-.78.8-2.07 0-2.86zM5.41 20L4 18.59l7.72-7.72 1.47 1.35L5.41 20z\"/>\n",
              "  </svg>\n",
              "      </button>\n",
              "      \n",
              "  <style>\n",
              "    .colab-df-container {\n",
              "      display:flex;\n",
              "      flex-wrap:wrap;\n",
              "      gap: 12px;\n",
              "    }\n",
              "\n",
              "    .colab-df-convert {\n",
              "      background-color: #E8F0FE;\n",
              "      border: none;\n",
              "      border-radius: 50%;\n",
              "      cursor: pointer;\n",
              "      display: none;\n",
              "      fill: #1967D2;\n",
              "      height: 32px;\n",
              "      padding: 0 0 0 0;\n",
              "      width: 32px;\n",
              "    }\n",
              "\n",
              "    .colab-df-convert:hover {\n",
              "      background-color: #E2EBFA;\n",
              "      box-shadow: 0px 1px 2px rgba(60, 64, 67, 0.3), 0px 1px 3px 1px rgba(60, 64, 67, 0.15);\n",
              "      fill: #174EA6;\n",
              "    }\n",
              "\n",
              "    [theme=dark] .colab-df-convert {\n",
              "      background-color: #3B4455;\n",
              "      fill: #D2E3FC;\n",
              "    }\n",
              "\n",
              "    [theme=dark] .colab-df-convert:hover {\n",
              "      background-color: #434B5C;\n",
              "      box-shadow: 0px 1px 3px 1px rgba(0, 0, 0, 0.15);\n",
              "      filter: drop-shadow(0px 1px 2px rgba(0, 0, 0, 0.3));\n",
              "      fill: #FFFFFF;\n",
              "    }\n",
              "  </style>\n",
              "\n",
              "      <script>\n",
              "        const buttonEl =\n",
              "          document.querySelector('#df-86b821c5-3654-48bd-9192-1d43d1b39e92 button.colab-df-convert');\n",
              "        buttonEl.style.display =\n",
              "          google.colab.kernel.accessAllowed ? 'block' : 'none';\n",
              "\n",
              "        async function convertToInteractive(key) {\n",
              "          const element = document.querySelector('#df-86b821c5-3654-48bd-9192-1d43d1b39e92');\n",
              "          const dataTable =\n",
              "            await google.colab.kernel.invokeFunction('convertToInteractive',\n",
              "                                                     [key], {});\n",
              "          if (!dataTable) return;\n",
              "\n",
              "          const docLinkHtml = 'Like what you see? Visit the ' +\n",
              "            '<a target=\"_blank\" href=https://colab.research.google.com/notebooks/data_table.ipynb>data table notebook</a>'\n",
              "            + ' to learn more about interactive tables.';\n",
              "          element.innerHTML = '';\n",
              "          dataTable['output_type'] = 'display_data';\n",
              "          await google.colab.output.renderOutput(dataTable, element);\n",
              "          const docLink = document.createElement('div');\n",
              "          docLink.innerHTML = docLinkHtml;\n",
              "          element.appendChild(docLink);\n",
              "        }\n",
              "      </script>\n",
              "    </div>\n",
              "  </div>\n",
              "  "
            ],
            "text/plain": [
              "        Vectorizer Analyzer type  ... WA f1-score  WA recall\n",
              "0  CountVectorizer          word  ...    0.713640   0.714048\n",
              "1  CountVectorizer          word  ...    0.713383   0.713899\n",
              "2  CountVectorizer          word  ...    0.713266   0.713825\n",
              "3  CountVectorizer          word  ...    0.713096   0.713677\n",
              "4  CountVectorizer          word  ...    0.663591   0.667272\n",
              "\n",
              "[5 rows x 7 columns]"
            ]
          },
          "metadata": {},
          "execution_count": 9
        }
      ]
    },
    {
      "cell_type": "markdown",
      "metadata": {
        "id": "g7OrkmRv379P"
      },
      "source": [
        "## CountVectorizer с параметром analyzer=\"char\" (символьные n-граммы)"
      ]
    },
    {
      "cell_type": "code",
      "metadata": {
        "id": "CYDPtHciCrO5"
      },
      "source": [
        "# Всё то жесамое как и для мешка n-грамм, просто поменяли один параметр\n",
        "char_count_vectorizer_results = []\n",
        "for i in range(1,6):\n",
        "  for j in range(i+1,7):\n",
        "    count_vectorizer, count_vectorizer_x_train = vectorizer_fit_transform(CountVectorizer(ngram_range=(i,j), stop_words=stopwords.words(\"russian\"), analyzer=\"char\"))\n",
        "    char_count_vectorizer_results += [bayes_classifier(count_vectorizer, count_vectorizer_x_train)]"
      ],
      "execution_count": null,
      "outputs": []
    },
    {
      "cell_type": "code",
      "metadata": {
        "colab": {
          "base_uri": "https://localhost:8080/",
          "height": 206
        },
        "id": "wiblp-G5CuHc",
        "outputId": "c1607d81-a77f-425d-f230-b579baf396b0"
      },
      "source": [
        "# Строим DataFrame\n",
        "dict_data = []\n",
        "for i, vectorizer in enumerate(char_count_vectorizer_results):\n",
        "  metrics = vectorizer[0]\n",
        "  shape = shape = re.findall('ngram_range=\\([0-9]+, [0-9]+\\)', str(vectorizer[1]))[0][12::]\n",
        "  dict_data += [{'Vectorizer' : 'CountVectorizer', 'Analyzer type' : 'char', 'ngram_range' : shape, 'Accuracy' : metrics['accuracy'], 'WA Precision' : metrics['weighted avg']['precision'], 'WA f1-score' : metrics['weighted avg']['f1-score'], 'WA recall' : metrics['weighted avg']['recall']}]\n",
        "char_count_vectorizer_df = pd.DataFrame(dict_data)\n",
        "# char_count_vectorizer_df2.sort_values(by=['Accuracy'], ascending=False).head(10)\n",
        "\n",
        "# char_count_vectorizer_df = pd.concat([char_count_vectorizer_df1, char_count_vectorizer_df2], ignore_index=True)\n",
        "char_count_vectorizer_df.sort_values(by=['Accuracy'], ascending=False).head()\n"
      ],
      "execution_count": null,
      "outputs": [
        {
          "output_type": "execute_result",
          "data": {
            "text/html": [
              "\n",
              "  <div id=\"df-a4877b4c-46d3-4d64-9c34-c26f74965553\">\n",
              "    <div class=\"colab-df-container\">\n",
              "      <div>\n",
              "<style scoped>\n",
              "    .dataframe tbody tr th:only-of-type {\n",
              "        vertical-align: middle;\n",
              "    }\n",
              "\n",
              "    .dataframe tbody tr th {\n",
              "        vertical-align: top;\n",
              "    }\n",
              "\n",
              "    .dataframe thead th {\n",
              "        text-align: right;\n",
              "    }\n",
              "</style>\n",
              "<table border=\"1\" class=\"dataframe\">\n",
              "  <thead>\n",
              "    <tr style=\"text-align: right;\">\n",
              "      <th></th>\n",
              "      <th>Vectorizer</th>\n",
              "      <th>Analyzer type</th>\n",
              "      <th>ngram_range</th>\n",
              "      <th>Accuracy</th>\n",
              "      <th>WA Precision</th>\n",
              "      <th>WA f1-score</th>\n",
              "      <th>WA recall</th>\n",
              "    </tr>\n",
              "  </thead>\n",
              "  <tbody>\n",
              "    <tr>\n",
              "      <th>14</th>\n",
              "      <td>CountVectorizer</td>\n",
              "      <td>char</td>\n",
              "      <td>(5, 6)</td>\n",
              "      <td>0.719122</td>\n",
              "      <td>0.729193</td>\n",
              "      <td>0.721529</td>\n",
              "      <td>0.719122</td>\n",
              "    </tr>\n",
              "    <tr>\n",
              "      <th>13</th>\n",
              "      <td>CountVectorizer</td>\n",
              "      <td>char</td>\n",
              "      <td>(4, 6)</td>\n",
              "      <td>0.716862</td>\n",
              "      <td>0.727602</td>\n",
              "      <td>0.719312</td>\n",
              "      <td>0.716862</td>\n",
              "    </tr>\n",
              "    <tr>\n",
              "      <th>11</th>\n",
              "      <td>CountVectorizer</td>\n",
              "      <td>char</td>\n",
              "      <td>(3, 6)</td>\n",
              "      <td>0.713974</td>\n",
              "      <td>0.725750</td>\n",
              "      <td>0.716537</td>\n",
              "      <td>0.713974</td>\n",
              "    </tr>\n",
              "    <tr>\n",
              "      <th>8</th>\n",
              "      <td>CountVectorizer</td>\n",
              "      <td>char</td>\n",
              "      <td>(2, 6)</td>\n",
              "      <td>0.711566</td>\n",
              "      <td>0.723718</td>\n",
              "      <td>0.714185</td>\n",
              "      <td>0.711566</td>\n",
              "    </tr>\n",
              "    <tr>\n",
              "      <th>12</th>\n",
              "      <td>CountVectorizer</td>\n",
              "      <td>char</td>\n",
              "      <td>(4, 5)</td>\n",
              "      <td>0.711307</td>\n",
              "      <td>0.722533</td>\n",
              "      <td>0.713699</td>\n",
              "      <td>0.711307</td>\n",
              "    </tr>\n",
              "  </tbody>\n",
              "</table>\n",
              "</div>\n",
              "      <button class=\"colab-df-convert\" onclick=\"convertToInteractive('df-a4877b4c-46d3-4d64-9c34-c26f74965553')\"\n",
              "              title=\"Convert this dataframe to an interactive table.\"\n",
              "              style=\"display:none;\">\n",
              "        \n",
              "  <svg xmlns=\"http://www.w3.org/2000/svg\" height=\"24px\"viewBox=\"0 0 24 24\"\n",
              "       width=\"24px\">\n",
              "    <path d=\"M0 0h24v24H0V0z\" fill=\"none\"/>\n",
              "    <path d=\"M18.56 5.44l.94 2.06.94-2.06 2.06-.94-2.06-.94-.94-2.06-.94 2.06-2.06.94zm-11 1L8.5 8.5l.94-2.06 2.06-.94-2.06-.94L8.5 2.5l-.94 2.06-2.06.94zm10 10l.94 2.06.94-2.06 2.06-.94-2.06-.94-.94-2.06-.94 2.06-2.06.94z\"/><path d=\"M17.41 7.96l-1.37-1.37c-.4-.4-.92-.59-1.43-.59-.52 0-1.04.2-1.43.59L10.3 9.45l-7.72 7.72c-.78.78-.78 2.05 0 2.83L4 21.41c.39.39.9.59 1.41.59.51 0 1.02-.2 1.41-.59l7.78-7.78 2.81-2.81c.8-.78.8-2.07 0-2.86zM5.41 20L4 18.59l7.72-7.72 1.47 1.35L5.41 20z\"/>\n",
              "  </svg>\n",
              "      </button>\n",
              "      \n",
              "  <style>\n",
              "    .colab-df-container {\n",
              "      display:flex;\n",
              "      flex-wrap:wrap;\n",
              "      gap: 12px;\n",
              "    }\n",
              "\n",
              "    .colab-df-convert {\n",
              "      background-color: #E8F0FE;\n",
              "      border: none;\n",
              "      border-radius: 50%;\n",
              "      cursor: pointer;\n",
              "      display: none;\n",
              "      fill: #1967D2;\n",
              "      height: 32px;\n",
              "      padding: 0 0 0 0;\n",
              "      width: 32px;\n",
              "    }\n",
              "\n",
              "    .colab-df-convert:hover {\n",
              "      background-color: #E2EBFA;\n",
              "      box-shadow: 0px 1px 2px rgba(60, 64, 67, 0.3), 0px 1px 3px 1px rgba(60, 64, 67, 0.15);\n",
              "      fill: #174EA6;\n",
              "    }\n",
              "\n",
              "    [theme=dark] .colab-df-convert {\n",
              "      background-color: #3B4455;\n",
              "      fill: #D2E3FC;\n",
              "    }\n",
              "\n",
              "    [theme=dark] .colab-df-convert:hover {\n",
              "      background-color: #434B5C;\n",
              "      box-shadow: 0px 1px 3px 1px rgba(0, 0, 0, 0.15);\n",
              "      filter: drop-shadow(0px 1px 2px rgba(0, 0, 0, 0.3));\n",
              "      fill: #FFFFFF;\n",
              "    }\n",
              "  </style>\n",
              "\n",
              "      <script>\n",
              "        const buttonEl =\n",
              "          document.querySelector('#df-a4877b4c-46d3-4d64-9c34-c26f74965553 button.colab-df-convert');\n",
              "        buttonEl.style.display =\n",
              "          google.colab.kernel.accessAllowed ? 'block' : 'none';\n",
              "\n",
              "        async function convertToInteractive(key) {\n",
              "          const element = document.querySelector('#df-a4877b4c-46d3-4d64-9c34-c26f74965553');\n",
              "          const dataTable =\n",
              "            await google.colab.kernel.invokeFunction('convertToInteractive',\n",
              "                                                     [key], {});\n",
              "          if (!dataTable) return;\n",
              "\n",
              "          const docLinkHtml = 'Like what you see? Visit the ' +\n",
              "            '<a target=\"_blank\" href=https://colab.research.google.com/notebooks/data_table.ipynb>data table notebook</a>'\n",
              "            + ' to learn more about interactive tables.';\n",
              "          element.innerHTML = '';\n",
              "          dataTable['output_type'] = 'display_data';\n",
              "          await google.colab.output.renderOutput(dataTable, element);\n",
              "          const docLink = document.createElement('div');\n",
              "          docLink.innerHTML = docLinkHtml;\n",
              "          element.appendChild(docLink);\n",
              "        }\n",
              "      </script>\n",
              "    </div>\n",
              "  </div>\n",
              "  "
            ],
            "text/plain": [
              "         Vectorizer Analyzer type  ... WA f1-score  WA recall\n",
              "14  CountVectorizer          char  ...    0.721529   0.719122\n",
              "13  CountVectorizer          char  ...    0.719312   0.716862\n",
              "11  CountVectorizer          char  ...    0.716537   0.713974\n",
              "8   CountVectorizer          char  ...    0.714185   0.711566\n",
              "12  CountVectorizer          char  ...    0.713699   0.711307\n",
              "\n",
              "[5 rows x 7 columns]"
            ]
          },
          "metadata": {},
          "execution_count": 11
        }
      ]
    },
    {
      "cell_type": "markdown",
      "metadata": {
        "id": "dXX0Ml524UfW"
      },
      "source": [
        "## TfidfVectorizer"
      ]
    },
    {
      "cell_type": "code",
      "metadata": {
        "id": "Bd1bUgH6k3P4"
      },
      "source": [
        "''' max_df - при построении словаря игнорировать слова, чья частота появления в тексте строго больше заданного параметра.\n",
        "    min_df - при построении словаря игнорировать слова, чья частота появления в тексте строго меньше заданного параметра.\n",
        "    max_features - если этот параметр не равен None, то строим словарь учитывая только топ max_features слов, упорядоченных(по убыванию) по частоте появления в тексте.\n",
        "'''\n",
        "import warnings\n",
        "warnings.filterwarnings('ignore')\n",
        "\n",
        "tfidf_vectorizer_results = []\n",
        "for i in range(1, 3):\n",
        "  for j in range(i + 1, 4):\n",
        "    for max_df in (0.7, 0.1):\n",
        "      for min_df in (0.01, 0.02):\n",
        "        for max_features in (2048, 4096):\n",
        "          tfidf_vectorizer, tfidf_vectorizer_x_train = vectorizer_fit_transform(TfidfVectorizer(ngram_range=(i, j), max_df=max_df, min_df=min_df, max_features=max_features))\n",
        "          tfidf_vectorizer_results += [bayes_classifier(tfidf_vectorizer, tfidf_vectorizer_x_train)]"
      ],
      "execution_count": null,
      "outputs": []
    },
    {
      "cell_type": "code",
      "metadata": {
        "id": "XSNbdMINuIMF",
        "colab": {
          "base_uri": "https://localhost:8080/",
          "height": 363
        },
        "outputId": "0134ef66-e464-4c21-cec8-88e18d3cd734"
      },
      "source": [
        "# Строим DataFrame\n",
        "dict_data = []\n",
        "for vectorizer in tfidf_vectorizer_results:\n",
        "  metrics = vectorizer[0]\n",
        "  max_df = re.findall('max_df=0[.0-9]*', str(vectorizer[1]))[0][7::]\n",
        "  max_features = re.findall('max_features=[0-9]+', str(vectorizer[1]))[0][13::]\n",
        "  min_df = re.findall('min_df=0[.0-9]*', str(vectorizer[1]))[0][7::]\n",
        "  shape = re.findall('ngram_range=\\([0-9]+, [0-9]+\\)', str(vectorizer[1]))[0][12::]\n",
        "  dict_data += [{'Vectorizer' : 'TfidfVectorizer', 'Analyzer type' : 'word', 'max_df' : max_df, 'min_df' : min_df, 'max_features' : max_features, 'ngram_range' : shape, 'Accuracy' : metrics['accuracy'], 'WA Precision' : metrics['weighted avg']['precision'], 'WA f1-score' : metrics['weighted avg']['f1-score'], 'WA recall' : metrics['weighted avg']['recall']}]\n",
        "tfidf_vectorizer_df = pd.DataFrame(dict_data).sort_values(by=['Accuracy'], ascending=False)\n",
        "tfidf_vectorizer_df.sort_values(by=['Accuracy'], ascending=False).head(10)"
      ],
      "execution_count": null,
      "outputs": [
        {
          "output_type": "execute_result",
          "data": {
            "text/html": [
              "\n",
              "  <div id=\"df-cf35debd-a44e-41d0-9467-1989ac242a88\">\n",
              "    <div class=\"colab-df-container\">\n",
              "      <div>\n",
              "<style scoped>\n",
              "    .dataframe tbody tr th:only-of-type {\n",
              "        vertical-align: middle;\n",
              "    }\n",
              "\n",
              "    .dataframe tbody tr th {\n",
              "        vertical-align: top;\n",
              "    }\n",
              "\n",
              "    .dataframe thead th {\n",
              "        text-align: right;\n",
              "    }\n",
              "</style>\n",
              "<table border=\"1\" class=\"dataframe\">\n",
              "  <thead>\n",
              "    <tr style=\"text-align: right;\">\n",
              "      <th></th>\n",
              "      <th>Vectorizer</th>\n",
              "      <th>Analyzer type</th>\n",
              "      <th>max_df</th>\n",
              "      <th>min_df</th>\n",
              "      <th>max_features</th>\n",
              "      <th>ngram_range</th>\n",
              "      <th>Accuracy</th>\n",
              "      <th>WA Precision</th>\n",
              "      <th>WA f1-score</th>\n",
              "      <th>WA recall</th>\n",
              "    </tr>\n",
              "  </thead>\n",
              "  <tbody>\n",
              "    <tr>\n",
              "      <th>0</th>\n",
              "      <td>TfidfVectorizer</td>\n",
              "      <td>word</td>\n",
              "      <td>0.7</td>\n",
              "      <td>0.01</td>\n",
              "      <td>2048</td>\n",
              "      <td>(1, 2)</td>\n",
              "      <td>0.679530</td>\n",
              "      <td>0.687049</td>\n",
              "      <td>0.681478</td>\n",
              "      <td>0.679530</td>\n",
              "    </tr>\n",
              "    <tr>\n",
              "      <th>1</th>\n",
              "      <td>TfidfVectorizer</td>\n",
              "      <td>word</td>\n",
              "      <td>0.7</td>\n",
              "      <td>0.01</td>\n",
              "      <td>4096</td>\n",
              "      <td>(1, 2)</td>\n",
              "      <td>0.679530</td>\n",
              "      <td>0.687049</td>\n",
              "      <td>0.681478</td>\n",
              "      <td>0.679530</td>\n",
              "    </tr>\n",
              "    <tr>\n",
              "      <th>8</th>\n",
              "      <td>TfidfVectorizer</td>\n",
              "      <td>word</td>\n",
              "      <td>0.7</td>\n",
              "      <td>0.01</td>\n",
              "      <td>2048</td>\n",
              "      <td>(1, 3)</td>\n",
              "      <td>0.678716</td>\n",
              "      <td>0.686861</td>\n",
              "      <td>0.680524</td>\n",
              "      <td>0.678716</td>\n",
              "    </tr>\n",
              "    <tr>\n",
              "      <th>9</th>\n",
              "      <td>TfidfVectorizer</td>\n",
              "      <td>word</td>\n",
              "      <td>0.7</td>\n",
              "      <td>0.01</td>\n",
              "      <td>4096</td>\n",
              "      <td>(1, 3)</td>\n",
              "      <td>0.678716</td>\n",
              "      <td>0.686861</td>\n",
              "      <td>0.680524</td>\n",
              "      <td>0.678716</td>\n",
              "    </tr>\n",
              "    <tr>\n",
              "      <th>4</th>\n",
              "      <td>TfidfVectorizer</td>\n",
              "      <td>word</td>\n",
              "      <td>0.1</td>\n",
              "      <td>0.01</td>\n",
              "      <td>2048</td>\n",
              "      <td>(1, 2)</td>\n",
              "      <td>0.669716</td>\n",
              "      <td>0.675661</td>\n",
              "      <td>0.671711</td>\n",
              "      <td>0.669716</td>\n",
              "    </tr>\n",
              "    <tr>\n",
              "      <th>5</th>\n",
              "      <td>TfidfVectorizer</td>\n",
              "      <td>word</td>\n",
              "      <td>0.1</td>\n",
              "      <td>0.01</td>\n",
              "      <td>4096</td>\n",
              "      <td>(1, 2)</td>\n",
              "      <td>0.669716</td>\n",
              "      <td>0.675661</td>\n",
              "      <td>0.671711</td>\n",
              "      <td>0.669716</td>\n",
              "    </tr>\n",
              "    <tr>\n",
              "      <th>13</th>\n",
              "      <td>TfidfVectorizer</td>\n",
              "      <td>word</td>\n",
              "      <td>0.1</td>\n",
              "      <td>0.01</td>\n",
              "      <td>4096</td>\n",
              "      <td>(1, 3)</td>\n",
              "      <td>0.669383</td>\n",
              "      <td>0.675840</td>\n",
              "      <td>0.671270</td>\n",
              "      <td>0.669383</td>\n",
              "    </tr>\n",
              "    <tr>\n",
              "      <th>12</th>\n",
              "      <td>TfidfVectorizer</td>\n",
              "      <td>word</td>\n",
              "      <td>0.1</td>\n",
              "      <td>0.01</td>\n",
              "      <td>2048</td>\n",
              "      <td>(1, 3)</td>\n",
              "      <td>0.669383</td>\n",
              "      <td>0.675840</td>\n",
              "      <td>0.671270</td>\n",
              "      <td>0.669383</td>\n",
              "    </tr>\n",
              "    <tr>\n",
              "      <th>10</th>\n",
              "      <td>TfidfVectorizer</td>\n",
              "      <td>word</td>\n",
              "      <td>0.7</td>\n",
              "      <td>0.02</td>\n",
              "      <td>2048</td>\n",
              "      <td>(1, 3)</td>\n",
              "      <td>0.653124</td>\n",
              "      <td>0.658615</td>\n",
              "      <td>0.654325</td>\n",
              "      <td>0.653124</td>\n",
              "    </tr>\n",
              "    <tr>\n",
              "      <th>11</th>\n",
              "      <td>TfidfVectorizer</td>\n",
              "      <td>word</td>\n",
              "      <td>0.7</td>\n",
              "      <td>0.02</td>\n",
              "      <td>4096</td>\n",
              "      <td>(1, 3)</td>\n",
              "      <td>0.653124</td>\n",
              "      <td>0.658615</td>\n",
              "      <td>0.654325</td>\n",
              "      <td>0.653124</td>\n",
              "    </tr>\n",
              "  </tbody>\n",
              "</table>\n",
              "</div>\n",
              "      <button class=\"colab-df-convert\" onclick=\"convertToInteractive('df-cf35debd-a44e-41d0-9467-1989ac242a88')\"\n",
              "              title=\"Convert this dataframe to an interactive table.\"\n",
              "              style=\"display:none;\">\n",
              "        \n",
              "  <svg xmlns=\"http://www.w3.org/2000/svg\" height=\"24px\"viewBox=\"0 0 24 24\"\n",
              "       width=\"24px\">\n",
              "    <path d=\"M0 0h24v24H0V0z\" fill=\"none\"/>\n",
              "    <path d=\"M18.56 5.44l.94 2.06.94-2.06 2.06-.94-2.06-.94-.94-2.06-.94 2.06-2.06.94zm-11 1L8.5 8.5l.94-2.06 2.06-.94-2.06-.94L8.5 2.5l-.94 2.06-2.06.94zm10 10l.94 2.06.94-2.06 2.06-.94-2.06-.94-.94-2.06-.94 2.06-2.06.94z\"/><path d=\"M17.41 7.96l-1.37-1.37c-.4-.4-.92-.59-1.43-.59-.52 0-1.04.2-1.43.59L10.3 9.45l-7.72 7.72c-.78.78-.78 2.05 0 2.83L4 21.41c.39.39.9.59 1.41.59.51 0 1.02-.2 1.41-.59l7.78-7.78 2.81-2.81c.8-.78.8-2.07 0-2.86zM5.41 20L4 18.59l7.72-7.72 1.47 1.35L5.41 20z\"/>\n",
              "  </svg>\n",
              "      </button>\n",
              "      \n",
              "  <style>\n",
              "    .colab-df-container {\n",
              "      display:flex;\n",
              "      flex-wrap:wrap;\n",
              "      gap: 12px;\n",
              "    }\n",
              "\n",
              "    .colab-df-convert {\n",
              "      background-color: #E8F0FE;\n",
              "      border: none;\n",
              "      border-radius: 50%;\n",
              "      cursor: pointer;\n",
              "      display: none;\n",
              "      fill: #1967D2;\n",
              "      height: 32px;\n",
              "      padding: 0 0 0 0;\n",
              "      width: 32px;\n",
              "    }\n",
              "\n",
              "    .colab-df-convert:hover {\n",
              "      background-color: #E2EBFA;\n",
              "      box-shadow: 0px 1px 2px rgba(60, 64, 67, 0.3), 0px 1px 3px 1px rgba(60, 64, 67, 0.15);\n",
              "      fill: #174EA6;\n",
              "    }\n",
              "\n",
              "    [theme=dark] .colab-df-convert {\n",
              "      background-color: #3B4455;\n",
              "      fill: #D2E3FC;\n",
              "    }\n",
              "\n",
              "    [theme=dark] .colab-df-convert:hover {\n",
              "      background-color: #434B5C;\n",
              "      box-shadow: 0px 1px 3px 1px rgba(0, 0, 0, 0.15);\n",
              "      filter: drop-shadow(0px 1px 2px rgba(0, 0, 0, 0.3));\n",
              "      fill: #FFFFFF;\n",
              "    }\n",
              "  </style>\n",
              "\n",
              "      <script>\n",
              "        const buttonEl =\n",
              "          document.querySelector('#df-cf35debd-a44e-41d0-9467-1989ac242a88 button.colab-df-convert');\n",
              "        buttonEl.style.display =\n",
              "          google.colab.kernel.accessAllowed ? 'block' : 'none';\n",
              "\n",
              "        async function convertToInteractive(key) {\n",
              "          const element = document.querySelector('#df-cf35debd-a44e-41d0-9467-1989ac242a88');\n",
              "          const dataTable =\n",
              "            await google.colab.kernel.invokeFunction('convertToInteractive',\n",
              "                                                     [key], {});\n",
              "          if (!dataTable) return;\n",
              "\n",
              "          const docLinkHtml = 'Like what you see? Visit the ' +\n",
              "            '<a target=\"_blank\" href=https://colab.research.google.com/notebooks/data_table.ipynb>data table notebook</a>'\n",
              "            + ' to learn more about interactive tables.';\n",
              "          element.innerHTML = '';\n",
              "          dataTable['output_type'] = 'display_data';\n",
              "          await google.colab.output.renderOutput(dataTable, element);\n",
              "          const docLink = document.createElement('div');\n",
              "          docLink.innerHTML = docLinkHtml;\n",
              "          element.appendChild(docLink);\n",
              "        }\n",
              "      </script>\n",
              "    </div>\n",
              "  </div>\n",
              "  "
            ],
            "text/plain": [
              "         Vectorizer Analyzer type max_df  ... WA Precision WA f1-score WA recall\n",
              "0   TfidfVectorizer          word    0.7  ...     0.687049    0.681478  0.679530\n",
              "1   TfidfVectorizer          word    0.7  ...     0.687049    0.681478  0.679530\n",
              "8   TfidfVectorizer          word    0.7  ...     0.686861    0.680524  0.678716\n",
              "9   TfidfVectorizer          word    0.7  ...     0.686861    0.680524  0.678716\n",
              "4   TfidfVectorizer          word    0.1  ...     0.675661    0.671711  0.669716\n",
              "5   TfidfVectorizer          word    0.1  ...     0.675661    0.671711  0.669716\n",
              "13  TfidfVectorizer          word    0.1  ...     0.675840    0.671270  0.669383\n",
              "12  TfidfVectorizer          word    0.1  ...     0.675840    0.671270  0.669383\n",
              "10  TfidfVectorizer          word    0.7  ...     0.658615    0.654325  0.653124\n",
              "11  TfidfVectorizer          word    0.7  ...     0.658615    0.654325  0.653124\n",
              "\n",
              "[10 rows x 10 columns]"
            ]
          },
          "metadata": {},
          "execution_count": 14
        }
      ]
    },
    {
      "cell_type": "markdown",
      "metadata": {
        "id": "UZW_iNxs4n0C"
      },
      "source": [
        "## Итог"
      ]
    },
    {
      "cell_type": "code",
      "metadata": {
        "id": "5aQSNUk8zB3f",
        "colab": {
          "base_uri": "https://localhost:8080/",
          "height": 614
        },
        "outputId": "44ddf081-83ff-4cbd-c5b8-5c7e98777b9f"
      },
      "source": [
        "# tfidf_vectorizer_df.drop(['max_df', 'min_df', 'max_features'], axis=1, inplace=True) # Убираем лишние столбцы из DataFrame, чтобы соединить всё в один\n",
        "\n",
        "vectorizer_dfs = pd.concat([count_vectorizer_df, char_count_vectorizer_df, tfidf_vectorizer_df], ignore_index=True)\n",
        "vectorizer_dfs.sort_values(by=['Accuracy'], ascending=False).head(18)"
      ],
      "execution_count": null,
      "outputs": [
        {
          "output_type": "execute_result",
          "data": {
            "text/html": [
              "\n",
              "  <div id=\"df-df83bdf1-dbf0-4804-88a2-52c7b8adbb45\">\n",
              "    <div class=\"colab-df-container\">\n",
              "      <div>\n",
              "<style scoped>\n",
              "    .dataframe tbody tr th:only-of-type {\n",
              "        vertical-align: middle;\n",
              "    }\n",
              "\n",
              "    .dataframe tbody tr th {\n",
              "        vertical-align: top;\n",
              "    }\n",
              "\n",
              "    .dataframe thead th {\n",
              "        text-align: right;\n",
              "    }\n",
              "</style>\n",
              "<table border=\"1\" class=\"dataframe\">\n",
              "  <thead>\n",
              "    <tr style=\"text-align: right;\">\n",
              "      <th></th>\n",
              "      <th>Vectorizer</th>\n",
              "      <th>Analyzer type</th>\n",
              "      <th>ngram_range</th>\n",
              "      <th>Accuracy</th>\n",
              "      <th>WA Precision</th>\n",
              "      <th>WA f1-score</th>\n",
              "      <th>WA recall</th>\n",
              "    </tr>\n",
              "  </thead>\n",
              "  <tbody>\n",
              "    <tr>\n",
              "      <th>28</th>\n",
              "      <td>CountVectorizer</td>\n",
              "      <td>char</td>\n",
              "      <td>(5, 6)</td>\n",
              "      <td>0.719122</td>\n",
              "      <td>0.729193</td>\n",
              "      <td>0.721529</td>\n",
              "      <td>0.719122</td>\n",
              "    </tr>\n",
              "    <tr>\n",
              "      <th>27</th>\n",
              "      <td>CountVectorizer</td>\n",
              "      <td>char</td>\n",
              "      <td>(4, 6)</td>\n",
              "      <td>0.716862</td>\n",
              "      <td>0.727602</td>\n",
              "      <td>0.719312</td>\n",
              "      <td>0.716862</td>\n",
              "    </tr>\n",
              "    <tr>\n",
              "      <th>0</th>\n",
              "      <td>CountVectorizer</td>\n",
              "      <td>word</td>\n",
              "      <td>(1, 3)</td>\n",
              "      <td>0.714048</td>\n",
              "      <td>0.713459</td>\n",
              "      <td>0.713640</td>\n",
              "      <td>0.714048</td>\n",
              "    </tr>\n",
              "    <tr>\n",
              "      <th>25</th>\n",
              "      <td>CountVectorizer</td>\n",
              "      <td>char</td>\n",
              "      <td>(3, 6)</td>\n",
              "      <td>0.713974</td>\n",
              "      <td>0.725750</td>\n",
              "      <td>0.716537</td>\n",
              "      <td>0.713974</td>\n",
              "    </tr>\n",
              "    <tr>\n",
              "      <th>1</th>\n",
              "      <td>CountVectorizer</td>\n",
              "      <td>word</td>\n",
              "      <td>(1, 4)</td>\n",
              "      <td>0.713899</td>\n",
              "      <td>0.713000</td>\n",
              "      <td>0.713383</td>\n",
              "      <td>0.713899</td>\n",
              "    </tr>\n",
              "    <tr>\n",
              "      <th>2</th>\n",
              "      <td>CountVectorizer</td>\n",
              "      <td>word</td>\n",
              "      <td>(1, 5)</td>\n",
              "      <td>0.713825</td>\n",
              "      <td>0.712814</td>\n",
              "      <td>0.713266</td>\n",
              "      <td>0.713825</td>\n",
              "    </tr>\n",
              "    <tr>\n",
              "      <th>3</th>\n",
              "      <td>CountVectorizer</td>\n",
              "      <td>word</td>\n",
              "      <td>(1, 6)</td>\n",
              "      <td>0.713677</td>\n",
              "      <td>0.712611</td>\n",
              "      <td>0.713096</td>\n",
              "      <td>0.713677</td>\n",
              "    </tr>\n",
              "    <tr>\n",
              "      <th>22</th>\n",
              "      <td>CountVectorizer</td>\n",
              "      <td>char</td>\n",
              "      <td>(2, 6)</td>\n",
              "      <td>0.711566</td>\n",
              "      <td>0.723718</td>\n",
              "      <td>0.714185</td>\n",
              "      <td>0.711566</td>\n",
              "    </tr>\n",
              "    <tr>\n",
              "      <th>26</th>\n",
              "      <td>CountVectorizer</td>\n",
              "      <td>char</td>\n",
              "      <td>(4, 5)</td>\n",
              "      <td>0.711307</td>\n",
              "      <td>0.722533</td>\n",
              "      <td>0.713699</td>\n",
              "      <td>0.711307</td>\n",
              "    </tr>\n",
              "    <tr>\n",
              "      <th>18</th>\n",
              "      <td>CountVectorizer</td>\n",
              "      <td>char</td>\n",
              "      <td>(1, 6)</td>\n",
              "      <td>0.710937</td>\n",
              "      <td>0.723146</td>\n",
              "      <td>0.713541</td>\n",
              "      <td>0.710937</td>\n",
              "    </tr>\n",
              "    <tr>\n",
              "      <th>24</th>\n",
              "      <td>CountVectorizer</td>\n",
              "      <td>char</td>\n",
              "      <td>(3, 5)</td>\n",
              "      <td>0.707566</td>\n",
              "      <td>0.719730</td>\n",
              "      <td>0.710135</td>\n",
              "      <td>0.707566</td>\n",
              "    </tr>\n",
              "    <tr>\n",
              "      <th>21</th>\n",
              "      <td>CountVectorizer</td>\n",
              "      <td>char</td>\n",
              "      <td>(2, 5)</td>\n",
              "      <td>0.705233</td>\n",
              "      <td>0.718032</td>\n",
              "      <td>0.707915</td>\n",
              "      <td>0.705233</td>\n",
              "    </tr>\n",
              "    <tr>\n",
              "      <th>17</th>\n",
              "      <td>CountVectorizer</td>\n",
              "      <td>char</td>\n",
              "      <td>(1, 5)</td>\n",
              "      <td>0.704048</td>\n",
              "      <td>0.716622</td>\n",
              "      <td>0.706642</td>\n",
              "      <td>0.704048</td>\n",
              "    </tr>\n",
              "    <tr>\n",
              "      <th>23</th>\n",
              "      <td>CountVectorizer</td>\n",
              "      <td>char</td>\n",
              "      <td>(3, 4)</td>\n",
              "      <td>0.700196</td>\n",
              "      <td>0.712450</td>\n",
              "      <td>0.702650</td>\n",
              "      <td>0.700196</td>\n",
              "    </tr>\n",
              "    <tr>\n",
              "      <th>20</th>\n",
              "      <td>CountVectorizer</td>\n",
              "      <td>char</td>\n",
              "      <td>(2, 4)</td>\n",
              "      <td>0.695493</td>\n",
              "      <td>0.708065</td>\n",
              "      <td>0.697962</td>\n",
              "      <td>0.695493</td>\n",
              "    </tr>\n",
              "    <tr>\n",
              "      <th>16</th>\n",
              "      <td>CountVectorizer</td>\n",
              "      <td>char</td>\n",
              "      <td>(1, 4)</td>\n",
              "      <td>0.693308</td>\n",
              "      <td>0.706234</td>\n",
              "      <td>0.695773</td>\n",
              "      <td>0.693308</td>\n",
              "    </tr>\n",
              "    <tr>\n",
              "      <th>19</th>\n",
              "      <td>CountVectorizer</td>\n",
              "      <td>char</td>\n",
              "      <td>(2, 3)</td>\n",
              "      <td>0.679790</td>\n",
              "      <td>0.693298</td>\n",
              "      <td>0.682464</td>\n",
              "      <td>0.679790</td>\n",
              "    </tr>\n",
              "    <tr>\n",
              "      <th>30</th>\n",
              "      <td>TfidfVectorizer</td>\n",
              "      <td>word</td>\n",
              "      <td>(1, 2)</td>\n",
              "      <td>0.679530</td>\n",
              "      <td>0.687049</td>\n",
              "      <td>0.681478</td>\n",
              "      <td>0.679530</td>\n",
              "    </tr>\n",
              "  </tbody>\n",
              "</table>\n",
              "</div>\n",
              "      <button class=\"colab-df-convert\" onclick=\"convertToInteractive('df-df83bdf1-dbf0-4804-88a2-52c7b8adbb45')\"\n",
              "              title=\"Convert this dataframe to an interactive table.\"\n",
              "              style=\"display:none;\">\n",
              "        \n",
              "  <svg xmlns=\"http://www.w3.org/2000/svg\" height=\"24px\"viewBox=\"0 0 24 24\"\n",
              "       width=\"24px\">\n",
              "    <path d=\"M0 0h24v24H0V0z\" fill=\"none\"/>\n",
              "    <path d=\"M18.56 5.44l.94 2.06.94-2.06 2.06-.94-2.06-.94-.94-2.06-.94 2.06-2.06.94zm-11 1L8.5 8.5l.94-2.06 2.06-.94-2.06-.94L8.5 2.5l-.94 2.06-2.06.94zm10 10l.94 2.06.94-2.06 2.06-.94-2.06-.94-.94-2.06-.94 2.06-2.06.94z\"/><path d=\"M17.41 7.96l-1.37-1.37c-.4-.4-.92-.59-1.43-.59-.52 0-1.04.2-1.43.59L10.3 9.45l-7.72 7.72c-.78.78-.78 2.05 0 2.83L4 21.41c.39.39.9.59 1.41.59.51 0 1.02-.2 1.41-.59l7.78-7.78 2.81-2.81c.8-.78.8-2.07 0-2.86zM5.41 20L4 18.59l7.72-7.72 1.47 1.35L5.41 20z\"/>\n",
              "  </svg>\n",
              "      </button>\n",
              "      \n",
              "  <style>\n",
              "    .colab-df-container {\n",
              "      display:flex;\n",
              "      flex-wrap:wrap;\n",
              "      gap: 12px;\n",
              "    }\n",
              "\n",
              "    .colab-df-convert {\n",
              "      background-color: #E8F0FE;\n",
              "      border: none;\n",
              "      border-radius: 50%;\n",
              "      cursor: pointer;\n",
              "      display: none;\n",
              "      fill: #1967D2;\n",
              "      height: 32px;\n",
              "      padding: 0 0 0 0;\n",
              "      width: 32px;\n",
              "    }\n",
              "\n",
              "    .colab-df-convert:hover {\n",
              "      background-color: #E2EBFA;\n",
              "      box-shadow: 0px 1px 2px rgba(60, 64, 67, 0.3), 0px 1px 3px 1px rgba(60, 64, 67, 0.15);\n",
              "      fill: #174EA6;\n",
              "    }\n",
              "\n",
              "    [theme=dark] .colab-df-convert {\n",
              "      background-color: #3B4455;\n",
              "      fill: #D2E3FC;\n",
              "    }\n",
              "\n",
              "    [theme=dark] .colab-df-convert:hover {\n",
              "      background-color: #434B5C;\n",
              "      box-shadow: 0px 1px 3px 1px rgba(0, 0, 0, 0.15);\n",
              "      filter: drop-shadow(0px 1px 2px rgba(0, 0, 0, 0.3));\n",
              "      fill: #FFFFFF;\n",
              "    }\n",
              "  </style>\n",
              "\n",
              "      <script>\n",
              "        const buttonEl =\n",
              "          document.querySelector('#df-df83bdf1-dbf0-4804-88a2-52c7b8adbb45 button.colab-df-convert');\n",
              "        buttonEl.style.display =\n",
              "          google.colab.kernel.accessAllowed ? 'block' : 'none';\n",
              "\n",
              "        async function convertToInteractive(key) {\n",
              "          const element = document.querySelector('#df-df83bdf1-dbf0-4804-88a2-52c7b8adbb45');\n",
              "          const dataTable =\n",
              "            await google.colab.kernel.invokeFunction('convertToInteractive',\n",
              "                                                     [key], {});\n",
              "          if (!dataTable) return;\n",
              "\n",
              "          const docLinkHtml = 'Like what you see? Visit the ' +\n",
              "            '<a target=\"_blank\" href=https://colab.research.google.com/notebooks/data_table.ipynb>data table notebook</a>'\n",
              "            + ' to learn more about interactive tables.';\n",
              "          element.innerHTML = '';\n",
              "          dataTable['output_type'] = 'display_data';\n",
              "          await google.colab.output.renderOutput(dataTable, element);\n",
              "          const docLink = document.createElement('div');\n",
              "          docLink.innerHTML = docLinkHtml;\n",
              "          element.appendChild(docLink);\n",
              "        }\n",
              "      </script>\n",
              "    </div>\n",
              "  </div>\n",
              "  "
            ],
            "text/plain": [
              "         Vectorizer Analyzer type  ... WA f1-score  WA recall\n",
              "28  CountVectorizer          char  ...    0.721529   0.719122\n",
              "27  CountVectorizer          char  ...    0.719312   0.716862\n",
              "0   CountVectorizer          word  ...    0.713640   0.714048\n",
              "25  CountVectorizer          char  ...    0.716537   0.713974\n",
              "1   CountVectorizer          word  ...    0.713383   0.713899\n",
              "2   CountVectorizer          word  ...    0.713266   0.713825\n",
              "3   CountVectorizer          word  ...    0.713096   0.713677\n",
              "22  CountVectorizer          char  ...    0.714185   0.711566\n",
              "26  CountVectorizer          char  ...    0.713699   0.711307\n",
              "18  CountVectorizer          char  ...    0.713541   0.710937\n",
              "24  CountVectorizer          char  ...    0.710135   0.707566\n",
              "21  CountVectorizer          char  ...    0.707915   0.705233\n",
              "17  CountVectorizer          char  ...    0.706642   0.704048\n",
              "23  CountVectorizer          char  ...    0.702650   0.700196\n",
              "20  CountVectorizer          char  ...    0.697962   0.695493\n",
              "16  CountVectorizer          char  ...    0.695773   0.693308\n",
              "19  CountVectorizer          char  ...    0.682464   0.679790\n",
              "30  TfidfVectorizer          word  ...    0.681478   0.679530\n",
              "\n",
              "[18 rows x 7 columns]"
            ]
          },
          "metadata": {},
          "execution_count": 20
        }
      ]
    },
    {
      "cell_type": "markdown",
      "metadata": {
        "id": "PgCzrsNP4tvS"
      },
      "source": [
        "## Вывод\n",
        "Лучше всего себя показали векторайзеры CountVectorizer с параметром analyzer=\"char\". Из них самый лучший с параметром ngram_range = (5, 6). На втором месте векторайзеры CountVectorizer с параметром analyzer=\"word\". Из них лучший с параметром ngram_range = (1, 3) оказался на 3-м месте в общем датафрейме. Векторайзеры TfidfVectorizer дали худший результат. Лучший из них оказался лишь на 18 месте с параметром ngram_range = (1, 2) *(полные параметры можно увидеть в датафрейме про TfidfVectorizer)*"
      ]
    },
    {
      "cell_type": "markdown",
      "metadata": {
        "id": "5QYTwyMtWhAZ"
      },
      "source": [
        "## Задание 5.2 Регулярные выражения\n",
        "\n",
        "Регулярные выражения - способ поиска и анализа строк. Например, можно понять, какие даты в наборе строк представлены в формате DD/MM/YYYY, а какие - в других форматах. \n",
        "\n",
        "Или бывает, например, что перед работой с текстом, надо почистить его от своеобразного мусора: упоминаний пользователей, url и так далее.\n",
        "\n",
        "Навык полезный, давайте в нём тоже потренируемся.\n",
        "\n",
        "Для работы с регулярными выражениями есть библиотека **re**"
      ]
    },
    {
      "cell_type": "code",
      "metadata": {
        "id": "VaUW5S4gWhAb"
      },
      "source": [
        "import re"
      ],
      "execution_count": null,
      "outputs": []
    },
    {
      "cell_type": "markdown",
      "metadata": {
        "id": "D6aYh7Osl8xr"
      },
      "source": [
        "В регулярных выражениях, кроме привычных символов-букв, есть специальные символы:\n",
        "* **?а** - ноль или один символ **а**\n",
        "* **+а** - один или более символов **а**\n",
        "* **\\*а** - ноль или более символов **а** (не путать с +)\n",
        "* **.** - любое количество любого символа\n",
        "\n",
        "Пример:\n",
        "Выражению \\*a?b. соответствуют последовательности a, ab, abc, aa, aac НО НЕ abb!"
      ]
    },
    {
      "cell_type": "markdown",
      "metadata": {
        "id": "q7zOFFA3l_KQ"
      },
      "source": [
        "Рассмотрим подробно несколько наиболее полезных функций:"
      ]
    },
    {
      "cell_type": "markdown",
      "metadata": {
        "id": "DbJrUpARWhAd"
      },
      "source": [
        "### findall\n",
        "возвращает список всех найденных непересекающихся совпадений.\n",
        "\n",
        "Регулярное выражение **ab+c.**: \n",
        "* **a** - просто символ **a**\n",
        "* **b+** - один или более символов **b**\n",
        "* **c** - просто символ **c**\n",
        "* **.** - любой символ\n"
      ]
    },
    {
      "cell_type": "code",
      "metadata": {
        "id": "2athHzKuWhAd"
      },
      "source": [
        "result = re.findall('ab+c.', 'abcdefghijkabcabcxabc') \n",
        "print(result)"
      ],
      "execution_count": null,
      "outputs": []
    },
    {
      "cell_type": "markdown",
      "metadata": {
        "id": "A9FpIw5RWhAf"
      },
      "source": [
        "Вопрос на внимательность: почему нет abcx?"
      ]
    },
    {
      "cell_type": "markdown",
      "metadata": {
        "id": "L15fYgPDhLR6"
      },
      "source": [
        "Ответ: findall возвращает список всех найденных непересекающихся совпадений. \"abca\" и \"abcx\" пересекаются - у них 'а' общий."
      ]
    },
    {
      "cell_type": "markdown",
      "metadata": {
        "id": "B5ttzoxEWhAg"
      },
      "source": [
        "**Задание**: вернуть список первых двух букв каждого слова в строке, состоящей из нескольких слов."
      ]
    },
    {
      "cell_type": "code",
      "metadata": {
        "id": "7ZR2AEq3WhAg"
      },
      "source": [
        "sentence1 = \"There's a lady who's sure all that glitters is gold\"\n",
        "first_two_letters = [x[:2:] for x in re.findall('[A-Za-z\\'\\-]+[ .!?\\n]?', sentence1)]\n",
        "first_two_letters"
      ],
      "execution_count": null,
      "outputs": []
    },
    {
      "cell_type": "markdown",
      "metadata": {
        "id": "MI18l-l9WhAk"
      },
      "source": [
        "### split\n",
        "разделяет строку по заданному шаблону\n"
      ]
    },
    {
      "cell_type": "code",
      "metadata": {
        "id": "sVKdRoc1WhAl"
      },
      "source": [
        "result = re.split(',', 'itsy, bitsy, teenie, weenie') \n",
        "print(result)"
      ],
      "execution_count": null,
      "outputs": []
    },
    {
      "cell_type": "markdown",
      "metadata": {
        "id": "10u5efuSWhAm"
      },
      "source": [
        "можно указать максимальное количество разбиений"
      ]
    },
    {
      "cell_type": "code",
      "metadata": {
        "id": "9U9EQZMwWhAn"
      },
      "source": [
        "result = re.split(',', 'itsy, bitsy, teenie, weenie', maxsplit=2) \n",
        "print(result)"
      ],
      "execution_count": null,
      "outputs": []
    },
    {
      "cell_type": "markdown",
      "metadata": {
        "id": "0EMcMyflWhAp"
      },
      "source": [
        "**Задание**: разбейте строку, состоящую из нескольких предложений, по точкам, но не более чем на 3 предложения."
      ]
    },
    {
      "cell_type": "code",
      "metadata": {
        "id": "dVgPSjEOWhAp"
      },
      "source": [
        "text = \"That. she. wore. for. the. first. time. today.\"\n",
        "\n",
        "re.split('\\.', text, maxsplit=2)"
      ],
      "execution_count": null,
      "outputs": []
    },
    {
      "cell_type": "markdown",
      "metadata": {
        "id": "1wrEGqBSWhAr"
      },
      "source": [
        "### sub\n",
        "ищет шаблон в строке и заменяет все совпадения на указанную подстроку\n",
        "\n",
        "параметры: (pattern, repl, string)"
      ]
    },
    {
      "cell_type": "code",
      "metadata": {
        "id": "az3KxKWwWhAr"
      },
      "source": [
        "result = re.sub('a', 'b', 'abcabc')\n",
        "print (result)"
      ],
      "execution_count": null,
      "outputs": []
    },
    {
      "cell_type": "markdown",
      "metadata": {
        "id": "qD0n7_HPWhAt"
      },
      "source": [
        "**Задание**: напишите регулярное выражение, которое позволит заменить все цифры в строке на \"DIG\"."
      ]
    },
    {
      "cell_type": "code",
      "metadata": {
        "id": "s_Sdu7xlWhAu"
      },
      "source": [
        "text = 'You load 16 tons, what do you get?'\n",
        "result = re.sub('[0-9]', 'DIG', text)\n",
        "result"
      ],
      "execution_count": null,
      "outputs": []
    },
    {
      "cell_type": "markdown",
      "metadata": {
        "id": "b8__oi1PWhAv"
      },
      "source": [
        "**Задание**: напишите  регулярное выражение, которое позволит убрать url из строки."
      ]
    },
    {
      "cell_type": "code",
      "metadata": {
        "id": "KwNS9zt4WhAv"
      },
      "source": [
        "string = 'web-site: https://ru.wikipedia.org/wiki/%D0%97%D0%B0%D0%B3%D0%BB%D0%B0%D0%B2%D0%BD%D0%B0%D1%8F_%D1%81%D1%82%D1%80%D0%B0%D0%BD%D0%B8%D1%86%D0%B0'\n",
        "result = re.sub('https://.+', '', string)\n",
        "result"
      ],
      "execution_count": null,
      "outputs": []
    },
    {
      "cell_type": "markdown",
      "metadata": {
        "id": "gStgBJy2WhAx"
      },
      "source": [
        "### compile\n",
        "компилирует регулярное выражение в отдельный объект"
      ]
    },
    {
      "cell_type": "code",
      "metadata": {
        "id": "JstTupisWhAy"
      },
      "source": [
        "# Пример: построение списка всех слов строки:\n",
        "prog = re.compile('[А-Яа-яё\\-]+')\n",
        "prog.findall(\"Слова? Да, больше, ещё больше слов! Что-то ещё.\")"
      ],
      "execution_count": null,
      "outputs": []
    },
    {
      "cell_type": "markdown",
      "metadata": {
        "id": "WXEXc3G0WhA2"
      },
      "source": [
        "**Задание**: для выбранной строки постройте список слов, которые длиннее трех символов."
      ]
    },
    {
      "cell_type": "code",
      "metadata": {
        "id": "nFvnIWbUWhA2"
      },
      "source": [
        "string = \"\"\"\n",
        "Money, it's a crime\n",
        "Share it fairly but don't take a slice of my pie\n",
        "Money, so they say\n",
        "Is the root of all evil today\n",
        "\"\"\"\n",
        "prog = re.compile('[0-9A-Za-z,.!?\\-\\']{3}[0-9A-Za-z,.!?\\-\\']+')\n",
        "prog.findall(string)"
      ],
      "execution_count": null,
      "outputs": []
    },
    {
      "cell_type": "markdown",
      "metadata": {
        "id": "SQDNZ3HQWhA3"
      },
      "source": [
        "**Задание**: вернуть список доменов (@gmail.com) из списка адресов электронной почты:\n",
        "\n",
        "```\n",
        "abc.test@gmail.com, xyz@test.in, test.first@analyticsvidhya.com, first.test@rest.biz\n",
        "```"
      ]
    },
    {
      "cell_type": "code",
      "metadata": {
        "id": "o5kwh-_xy9s5"
      },
      "source": [
        "text = \"abc.test@gmail.com, xyz@test.in, test.first@analyticsvidhya.com, first.test@rest.biz\"\n",
        "prog = re.compile('.+@gmail.com')\n",
        "prog.findall(text)"
      ],
      "execution_count": null,
      "outputs": []
    }
  ]
}